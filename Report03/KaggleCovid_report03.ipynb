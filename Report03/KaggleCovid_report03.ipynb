{
  "nbformat": 4,
  "nbformat_minor": 0,
  "metadata": {
    "colab": {
      "name": "Kaggle_Covid_Basic_Pipeline.ipynb",
      "provenance": [],
      "collapsed_sections": [],
      "include_colab_link": true
    },
    "kernelspec": {
      "name": "python3",
      "display_name": "Python 3"
    },
    "language_info": {
      "name": "python"
    }
  },
  "cells": [
    {
      "cell_type": "markdown",
      "metadata": {
        "id": "view-in-github",
        "colab_type": "text"
      },
      "source": [
        "<a href=\"https://colab.research.google.com/github/m-pedram/kaggleCovid/blob/main/Report01/Kaggle_Covid_Basic_Pipeline.ipynb\" target=\"_parent\"><img src=\"https://colab.research.google.com/assets/colab-badge.svg\" alt=\"Open In Colab\"/></a>"
      ]
    },
    {
      "cell_type": "markdown",
      "source": [
        "# ارایه‌ی یک روش بهبود یافته برای پیش‌بینی ضرورت بستری‌شدن بیماران کووید ۱۹\n",
        "# در بخش مراقبت‌های ویژه با استفاده از تکنیک‌های ترکیبی داده‌کاوی\n",
        "\n",
        "\n",
        "---\n",
        "\n",
        "\n",
        "دانشجو:\tمهنام پدرام\n",
        "\n",
        "دانشکده:\tمکانیک، برق و کامپیوتر\n",
        "\n",
        "گروه تخصصی:\tمهندسی نرم‌افزار\n",
        "\n",
        "استاد راهنما:\tخانم دکتر مریم رستگارپور     \n"
      ],
      "metadata": {
        "id": "8idYEdNphq-E"
      }
    },
    {
      "cell_type": "code",
      "source": [
        "# imports \n",
        "import pandas as pd\n",
        "import numpy as np\n",
        "from sklearn.linear_model import LogisticRegression\n",
        "from sklearn.metrics import accuracy_score, f1_score, \\\n",
        "    balanced_accuracy_score, average_precision_score\n",
        "from sklearn.model_selection import train_test_split\n",
        "from sklearn.pipeline import make_pipeline\n",
        "from sklearn.preprocessing import StandardScaler\n",
        "from sklearn.svm import SVC, NuSVC\n",
        "from sklearn.impute import KNNImputer, SimpleImputer\n",
        "from sklearn.decomposition import PCA"
      ],
      "metadata": {
        "id": "wJ20RYKt0tuA"
      },
      "execution_count": null,
      "outputs": []
    },
    {
      "cell_type": "markdown",
      "source": [
        "# Reading and preprocessing the Data"
      ],
      "metadata": {
        "id": "SuZW_hi3K0JO"
      }
    },
    {
      "cell_type": "markdown",
      "source": [
        "Cleaning the data has been carried out manually. The already cleaned table has been uploaded in a Github Repository."
      ],
      "metadata": {
        "id": "8RYDvGnCVU8A"
      }
    },
    {
      "cell_type": "code",
      "source": [
        "# read data from Google Drive\n",
        "# from google.colab import drive \n",
        "# drive.mount('/content/drive')\n",
        "\n",
        "data = pd.read_csv('https://raw.githubusercontent.com/m-pedram/kaggleCovid/main/Report03/rawData.csv')"
      ],
      "metadata": {
        "id": "hc6l0PSKwGxQ"
      },
      "execution_count": null,
      "outputs": []
    },
    {
      "cell_type": "markdown",
      "source": [
        "To fill the missing values the next or the previous entries have been copied. In this regard, the Forward filling (Padding) has been favored over backfilling."
      ],
      "metadata": {
        "id": "LvRQ-MuzWP9n"
      }
    },
    {
      "cell_type": "code",
      "source": [
        "filledData = data.query(\"PATIENT_VISIT_IDENTIFIER == 0\").fillna(method='pad')\n",
        "filledData = filledData.query(\"PATIENT_VISIT_IDENTIFIER == 0\").fillna(method='backfill')\n",
        "for patient_identifier in range(1,255):\n",
        "  tempDf = data.query(\"PATIENT_VISIT_IDENTIFIER == @patient_identifier\").fillna(method='pad')\n",
        "  tempDf2 = tempDf.query(\"PATIENT_VISIT_IDENTIFIER == @patient_identifier\").fillna(method='backfill')\n",
        "  filledData = pd.concat([filledData, tempDf2])"
      ],
      "metadata": {
        "id": "GrhWSjcG3XPx"
      },
      "execution_count": null,
      "outputs": []
    },
    {
      "cell_type": "code",
      "source": [
        "imp = SimpleImputer(missing_values=np.nan, strategy='most_frequent')\n",
        "imp.fit(filledData)\n",
        "table = imp.transform(filledData)"
      ],
      "metadata": {
        "id": "9gbYRpwBAJPT"
      },
      "execution_count": null,
      "outputs": []
    },
    {
      "cell_type": "markdown",
      "source": [
        "Remove time series information and reshape all information of each single patient into a single vector."
      ],
      "metadata": {
        "id": "xX2X9TgssLLH"
      }
    },
    {
      "cell_type": "code",
      "source": [
        "clean_table = np.concatenate((table[0,0:85], table[1,1:85], table[2,1:85], table[3,1:86]))\n",
        "for patient in range(1, int((table.shape[0])/4)):\n",
        "  row_number = int(patient * 4)\n",
        "  clean_table = np.vstack((clean_table, np.concatenate((table[row_number,0:85], table[row_number+1,1:85], table[row_number+2,1:85], table[row_number+3,1:86]))))"
      ],
      "metadata": {
        "id": "ZevxHFHpkLr_"
      },
      "execution_count": null,
      "outputs": []
    },
    {
      "cell_type": "markdown",
      "source": [
        "# Classifiers"
      ],
      "metadata": {
        "id": "xxp9Eq-JKi1y"
      }
    },
    {
      "cell_type": "code",
      "source": [
        "#functions\n",
        "\n",
        "def random_imputation(df, feature):\n",
        "    number_missing = df[feature].isnull().sum()\n",
        "    observed_values = df.loc[df[feature].notnull(), feature]\n",
        "    df.loc[df[feature].isnull(), feature + '_imp'] = np.random.choice(observed_values, number_missing, replace=True)\n",
        "    return df\n",
        "\n",
        "def knn_imputation(X):\n",
        "  imputer = KNNImputer(n_neighbors=2, weights=\"uniform\")\n",
        "  return imputer.fit_transform(X)\n",
        "\n",
        "\n",
        "def logistic_regression(X_tr, X_ts, y_tr, cWeight):\n",
        "    clf = LogisticRegression(random_state=0, max_iter= 1000, class_weight=cWeight).fit(X_tr, y_tr.reshape(-1, ))\n",
        "    return clf.predict(X_ts)\n",
        "\n",
        "\n",
        "def support_vector_machine(X_tr, X_ts, y_tr,cWeight):\n",
        "    # default kernel is 'RBF'\n",
        "    clf = make_pipeline(StandardScaler(), SVC(gamma='auto', kernel='rbf', class_weight=cWeight))\n",
        "    clf.fit(X_tr, y_tr.reshape(-1, ))\n",
        "    return clf.predict(X_ts)\n",
        "\n",
        "\n",
        "def metrics_report(y_true, y_pred):\n",
        "  accuracy = accuracy_score(y_test, y_pred)\n",
        "  f1 = f1_score(y_test, y_pred)\n",
        "  balancedAccuracy = balanced_accuracy_score(y_test, y_pred)\n",
        "  precision = average_precision_score(y_test, y_pred)\n",
        "  return accuracy, f1, balancedAccuracy, precision"
      ],
      "metadata": {
        "id": "5hE7fCBN21ew"
      },
      "execution_count": null,
      "outputs": []
    },
    {
      "cell_type": "markdown",
      "source": [
        "# Train and Prediction"
      ],
      "metadata": {
        "id": "TmhElFLcK_UM"
      }
    },
    {
      "cell_type": "code",
      "source": [
        "# define input-output sets\n",
        "inputs = clean_table[:,1:-1]\n",
        "outputs = clean_table[:,-1]\n",
        "print(inputs.shape)\n",
        "print(outputs.shape)"
      ],
      "metadata": {
        "colab": {
          "base_uri": "https://localhost:8080/"
        },
        "id": "utiNKPxPuQVL",
        "outputId": "62965660-e340-4e69-d26e-fa6081aabb23"
      },
      "execution_count": null,
      "outputs": [
        {
          "output_type": "stream",
          "name": "stdout",
          "text": [
            "(251, 336)\n",
            "(251,)\n"
          ]
        }
      ]
    },
    {
      "cell_type": "code",
      "source": [
        "#split data into train-test sets\n",
        "X_train, X_test, y_train, y_test = train_test_split(inputs, outputs, test_size=.5, shuffle=False)\n",
        "print(X_train.shape)\n",
        "print(X_test.shape)\n",
        "print(y_train.shape)\n",
        "print(y_test.shape)"
      ],
      "metadata": {
        "colab": {
          "base_uri": "https://localhost:8080/"
        },
        "id": "f9ELGEMswT_t",
        "outputId": "1e2434ff-0c7f-42df-db1c-58eb690261d2"
      },
      "execution_count": null,
      "outputs": [
        {
          "output_type": "stream",
          "name": "stdout",
          "text": [
            "(125, 336)\n",
            "(126, 336)\n",
            "(125,)\n",
            "(126,)\n"
          ]
        }
      ]
    },
    {
      "cell_type": "code",
      "source": [
        "#PCA\n",
        "pca = PCA(.8)\n",
        "pca.fit(X_train)\n",
        "train_low_dim = pca.transform(X_train)\n",
        "test_low_dim = pca.transform(X_test)\n",
        "train_low_dim.shape"
      ],
      "metadata": {
        "colab": {
          "base_uri": "https://localhost:8080/"
        },
        "id": "99OHlk53ZIiQ",
        "outputId": "fd865156-0104-4041-8ff1-1d817da5b863"
      },
      "execution_count": null,
      "outputs": [
        {
          "output_type": "execute_result",
          "data": {
            "text/plain": [
              "(125, 15)"
            ]
          },
          "metadata": {},
          "execution_count": 41
        }
      ]
    },
    {
      "cell_type": "code",
      "source": [
        "# train a logistic_regression classifier\n",
        "# without and without balancing weights with and without PCA\n",
        "print (' ---- Logistic regression experiments ----')\n",
        "y_predicted = logistic_regression(X_train, X_test, y_train, 'None')\n",
        "acc, f_1, balancedAcc, pr = metrics_report(y_test, y_predicted)\n",
        "\n",
        "print('')\n",
        "print('No balancing weights, no PCA')\n",
        "print ('accuracy:', acc)\n",
        "print ('f1_score:', f_1)\n",
        "print ('balanced accuracy:', balancedAcc)\n",
        "print ('average precision:', pr)\n",
        "\n",
        "# \n",
        "y_predicted = logistic_regression(train_low_dim, test_low_dim, y_train, 'None')\n",
        "acc, f_1, balancedAcc, pr = metrics_report(y_test, y_predicted)\n",
        "\n",
        "print('')\n",
        "print('No balancing weights, with PCA')\n",
        "print ('accuracy:', acc)\n",
        "print ('f1_score:', f_1)\n",
        "print ('balanced accuracy:', balancedAcc)\n",
        "print ('average precision:', pr)\n",
        "\n",
        "#\n",
        "y_predicted = logistic_regression(X_train, X_test, y_train, 'balanced')\n",
        "acc, f_1, balancedAcc, pr = metrics_report(y_test, y_predicted)\n",
        "print('')\n",
        "print('Weighted, no PCA')\n",
        "print ('accuracy:', acc)\n",
        "print ('f1_score:', f_1)\n",
        "print ('balanced accuracy:', balancedAcc)\n",
        "print ('average precision:', pr)\n",
        "\n",
        "#\n",
        "y_predicted = logistic_regression(train_low_dim, test_low_dim, y_train, 'balanced')\n",
        "acc, f_1, balancedAcc, pr = metrics_report(y_test, y_predicted)\n",
        "\n",
        "print('')\n",
        "print('Weighted, with PCA')\n",
        "print ('accuracy:', acc)\n",
        "print ('f1_score:', f_1)\n",
        "print ('balanced accuracy:', balancedAcc)\n",
        "print ('average precision:', pr)"
      ],
      "metadata": {
        "id": "9ftXDfyQwYrn",
        "colab": {
          "base_uri": "https://localhost:8080/"
        },
        "outputId": "87a574a0-1032-4454-920c-265e83304035"
      },
      "execution_count": null,
      "outputs": [
        {
          "output_type": "stream",
          "name": "stdout",
          "text": [
            " ---- Logistic regression experiments ----\n",
            "\n",
            "No balancing weights, no PCA\n",
            "accuracy: 0.7142857142857143\n",
            "f1_score: 0.14285714285714285\n",
            "balanced accuracy: 0.5096409574468085\n",
            "average precision: 0.25828373015873013\n",
            "\n",
            "No balancing weights, with PCA\n",
            "accuracy: 0.7222222222222222\n",
            "f1_score: 0.22222222222222224\n",
            "balanced accuracy: 0.5355718085106382\n",
            "average precision: 0.2743818681318681\n",
            "\n",
            "Weighted, no PCA\n",
            "accuracy: 0.6904761904761905\n",
            "f1_score: 0.2909090909090909\n",
            "balanced accuracy: 0.5452127659574468\n",
            "average precision: 0.2774327122153209\n",
            "\n",
            "Weighted, with PCA\n",
            "accuracy: 0.6746031746031746\n",
            "f1_score: 0.3278688524590164\n",
            "balanced accuracy: 0.555186170212766\n",
            "average precision: 0.2823617952928298\n"
          ]
        }
      ]
    },
    {
      "cell_type": "code",
      "source": [
        "# train a linear support vector machine (SVM) classifier\n",
        "print (' ---- SVM with RBF kernel experiments ----')\n",
        "y_predicted = support_vector_machine(X_train, X_test, y_train,None)\n",
        "acc, f_1, balancedAcc, pr = metrics_report(y_test, y_predicted)\n",
        "\n",
        "print('')\n",
        "print('No balancing weights, no PCA')\n",
        "print ('accuracy:', acc)\n",
        "print ('f1_score:', f_1)\n",
        "print ('balanced accuracy:', balancedAcc)\n",
        "print ('average precision:', pr)\n",
        "\n",
        "#\n",
        "y_predicted = support_vector_machine(train_low_dim, test_low_dim, y_train, None)\n",
        "acc, f_1, balancedAcc, pr = metrics_report(y_test, y_predicted)\n",
        "\n",
        "print('')\n",
        "print('No balancing weights, with PCA')\n",
        "print ('accuracy:', acc)\n",
        "print ('f1_score:', f_1)\n",
        "print ('balanced accuracy:', balancedAcc)\n",
        "print ('average precision:', pr)\n",
        "\n",
        "#\n",
        "\n",
        "y_predicted = support_vector_machine(X_train, X_test, y_train,'balanced')\n",
        "acc, f_1, balancedAcc, pr = metrics_report(y_test, y_predicted)\n",
        "\n",
        "print('')\n",
        "print('Weighted, no PCA')\n",
        "print ('accuracy:', acc)\n",
        "print ('f1_score:', f_1)\n",
        "print ('balanced accuracy:', balancedAcc)\n",
        "print ('average precision:', pr)\n",
        "\n",
        "\n",
        "#\n",
        "y_predicted = support_vector_machine(train_low_dim, test_low_dim, y_train, 'balanced')\n",
        "acc, f_1, balancedAcc, pr = metrics_report(y_test, y_predicted)\n",
        "\n",
        "print('')\n",
        "print('weighted, with PCA')\n",
        "print ('accuracy:', acc)\n",
        "print ('f1_score:', f_1)\n",
        "print ('balanced accuracy:', balancedAcc)\n",
        "print ('average precision:', pr)"
      ],
      "metadata": {
        "id": "hnr-iZXs7MdT",
        "colab": {
          "base_uri": "https://localhost:8080/"
        },
        "outputId": "362aa413-ac7c-478e-a7c1-3fce37cd6f2b"
      },
      "execution_count": null,
      "outputs": [
        {
          "output_type": "stream",
          "name": "stdout",
          "text": [
            " ---- SVM with RBF kernel experiments ----\n",
            "\n",
            "No balancing weights, no PCA\n",
            "accuracy: 0.746031746031746\n",
            "f1_score: 0.0\n",
            "balanced accuracy: 0.5\n",
            "average precision: 0.25396825396825395\n",
            "\n",
            "No balancing weights, with PCA\n",
            "accuracy: 0.7380952380952381\n",
            "f1_score: 0.05714285714285714\n",
            "balanced accuracy: 0.5049867021276595\n",
            "average precision: 0.2564484126984127\n",
            "\n",
            "Weighted, no PCA\n",
            "accuracy: 0.6984126984126984\n",
            "f1_score: 0.3666666666666667\n",
            "balanced accuracy: 0.5814494680851063\n",
            "average precision: 0.30171130952380953\n",
            "\n",
            "weighted, with PCA\n",
            "accuracy: 0.6746031746031746\n",
            "f1_score: 0.3492063492063492\n",
            "balanced accuracy: 0.5654920212765957\n",
            "average precision: 0.28864247311827956\n"
          ]
        }
      ]
    },
    {
      "cell_type": "code",
      "source": [
        "# train a non linear support_vector_machine classifier\n",
        "\n",
        "print (' ---- Nonlinear SVM experiments ----')\n",
        "clf = NuSVC(gamma=\"auto\", nu=0.1, class_weight=None)\n",
        "clf.fit(X_train, y_train)\n",
        "y_predicted = clf.predict(X_test)\n",
        "acc, f_1, balancedAcc, pr = metrics_report(y_test, y_predicted)\n",
        "\n",
        "print('')\n",
        "print('No balancing weights, no PCA')\n",
        "print ('accuracy:', acc)\n",
        "print ('f1_score:', f_1)\n",
        "print ('balanced accuracy:', balancedAcc)\n",
        "print ('average precision:', pr)\n",
        "\n",
        "#\n",
        "clf = NuSVC(gamma=\"auto\", nu=0.1, class_weight=None)\n",
        "clf.fit(train_low_dim, y_train)\n",
        "y_predicted = clf.predict(test_low_dim)\n",
        "acc, f_1, balancedAcc, pr = metrics_report(y_test, y_predicted)\n",
        "\n",
        "print('')\n",
        "print('No balancing weights, with PCA')\n",
        "print ('accuracy:', acc)\n",
        "print ('f1_score:', f_1)\n",
        "print ('balanced accuracy:', balancedAcc)\n",
        "print ('average precision:', pr)\n",
        "\n",
        "#\n",
        "\n",
        "clf = NuSVC(gamma=\"auto\", nu=0.1, class_weight='balanced')\n",
        "clf.fit(X_train, y_train)\n",
        "y_predicted = clf.predict(X_test)\n",
        "acc, f_1, balancedAcc, pr = metrics_report(y_test, y_predicted)\n",
        "\n",
        "print('')\n",
        "print('weighted, no PCA')\n",
        "print ('accuracy:', acc)\n",
        "print ('f1_score:', f_1)\n",
        "print ('balanced accuracy:', balancedAcc)\n",
        "print ('average precision:', pr)\n",
        "\n",
        "\n",
        "#\n",
        "clf = NuSVC(gamma=\"auto\", nu=0.1, class_weight='balanced')\n",
        "clf.fit(train_low_dim, y_train)\n",
        "y_predicted = clf.predict(test_low_dim)\n",
        "acc, f_1, balancedAcc, pr = metrics_report(y_test, y_predicted)\n",
        "\n",
        "print('')\n",
        "print('weighted, with PCA')\n",
        "print ('accuracy:', acc)\n",
        "print ('f1_score:', f_1)\n",
        "print ('balanced accuracy:', balancedAcc)\n",
        "print ('average precision:', pr)"
      ],
      "metadata": {
        "id": "Tz5IDX8aE2gR",
        "colab": {
          "base_uri": "https://localhost:8080/"
        },
        "outputId": "56094484-49da-4246-bd75-ac6ca159cbc6"
      },
      "execution_count": null,
      "outputs": [
        {
          "output_type": "stream",
          "name": "stdout",
          "text": [
            " ---- Nonlinear SVM experiments ----\n",
            "\n",
            "No balancing weights, no PCA\n",
            "accuracy: 0.7222222222222222\n",
            "f1_score: 0.3396226415094339\n",
            "balanced accuracy: 0.5767952127659575\n",
            "average precision: 0.3030753968253968\n",
            "\n",
            "No balancing weights, with PCA\n",
            "accuracy: 0.6904761904761905\n",
            "f1_score: 0.3157894736842105\n",
            "balanced accuracy: 0.5555186170212766\n",
            "average precision: 0.2837896825396825\n",
            "\n",
            "weighted, no PCA\n",
            "accuracy: 0.7222222222222222\n",
            "f1_score: 0.3396226415094339\n",
            "balanced accuracy: 0.5767952127659575\n",
            "average precision: 0.3030753968253968\n",
            "\n",
            "weighted, with PCA\n",
            "accuracy: 0.6904761904761905\n",
            "f1_score: 0.3157894736842105\n",
            "balanced accuracy: 0.5555186170212766\n",
            "average precision: 0.2837896825396825\n"
          ]
        }
      ]
    }
  ]
}
