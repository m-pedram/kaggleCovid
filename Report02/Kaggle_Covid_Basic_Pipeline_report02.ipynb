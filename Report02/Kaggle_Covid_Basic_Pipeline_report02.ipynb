{
  "nbformat": 4,
  "nbformat_minor": 0,
  "metadata": {
    "colab": {
      "name": "Kaggle_Covid_Basic_Pipeline_report02.ipynb",
      "provenance": [],
      "collapsed_sections": [],
      "include_colab_link": true
    },
    "kernelspec": {
      "name": "python3",
      "display_name": "Python 3"
    },
    "language_info": {
      "name": "python"
    }
  },
  "cells": [
    {
      "cell_type": "markdown",
      "metadata": {
        "id": "view-in-github",
        "colab_type": "text"
      },
      "source": [
        "<a href=\"https://colab.research.google.com/github/m-pedram/kaggleCovid/blob/main/Report02/Kaggle_Covid_Basic_Pipeline_report02.ipynb\" target=\"_parent\"><img src=\"https://colab.research.google.com/assets/colab-badge.svg\" alt=\"Open In Colab\"/></a>"
      ]
    },
    {
      "cell_type": "markdown",
      "source": [
        "# ارایه‌ی یک روش بهبود یافته برای پیش‌بینی ضرورت بستری‌شدن بیماران کووید ۱۹\n",
        "# در بخش مراقبت‌های ویژه با استفاده از تکنیک‌های ترکیبی داده‌کاوی\n",
        "**گزارش شماره ۲**\n",
        "---\n",
        "\n",
        "\n",
        "دانشجو:\tمهنام پدرام\n",
        "\n",
        "دانشکده:\tمکانیک، برق و کامپیوتر\n",
        "\n",
        "گروه تخصصی:\tمهندسی نرم‌افزار\n",
        "\n",
        "استاد راهنما:\tخانم دکتر مریم رستگارپور     \n"
      ],
      "metadata": {
        "id": "8idYEdNphq-E"
      }
    },
    {
      "cell_type": "code",
      "source": [
        "# imports \n",
        "import pandas as pd\n",
        "import numpy as np\n",
        "import seaborn as sns\n",
        "import matplotlib.pyplot as plt\n",
        "from sklearn.linear_model import LogisticRegression\n",
        "from sklearn.metrics import accuracy_score, f1_score, \\\n",
        "    balanced_accuracy_score, average_precision_score\n",
        "from sklearn.model_selection import train_test_split\n",
        "from sklearn.pipeline import make_pipeline\n",
        "from sklearn.preprocessing import StandardScaler\n",
        "from sklearn.svm import SVC, NuSVC\n",
        "from sklearn.impute import KNNImputer, SimpleImputer\n",
        "from sklearn.decomposition import PCA\n",
        "import statistics"
      ],
      "metadata": {
        "id": "wJ20RYKt0tuA"
      },
      "execution_count": 38,
      "outputs": []
    },
    {
      "cell_type": "markdown",
      "source": [
        "# Reading and preprocessing the Data"
      ],
      "metadata": {
        "id": "SuZW_hi3K0JO"
      }
    },
    {
      "cell_type": "markdown",
      "source": [
        "Cleaning the data has been carried out manually. The already cleaned table has been uploaded in a Github Repository."
      ],
      "metadata": {
        "id": "8RYDvGnCVU8A"
      }
    },
    {
      "cell_type": "code",
      "source": [
        "# read data from Google Drive\n",
        "# from google.colab import drive \n",
        "# drive.mount('/content/drive')\n",
        "\n",
        "data = pd.read_csv('https://raw.githubusercontent.com/m-pedram/kaggleCovid/main/Report02/rawData.csv')"
      ],
      "metadata": {
        "id": "hc6l0PSKwGxQ"
      },
      "execution_count": 25,
      "outputs": []
    },
    {
      "cell_type": "markdown",
      "source": [
        "To fill the missing values the next or the previous entries have been copied. In this regard, the Forward filling (Padding) has been favored over backfilling."
      ],
      "metadata": {
        "id": "LvRQ-MuzWP9n"
      }
    },
    {
      "cell_type": "code",
      "source": [
        "filledData = data.query(\"PATIENT_VISIT_IDENTIFIER == 0\").fillna(method='pad')\n",
        "filledData = filledData.query(\"PATIENT_VISIT_IDENTIFIER == 0\").fillna(method='backfill')\n",
        "for patient_identifier in range(1,255):\n",
        "  tempDf = data.query(\"PATIENT_VISIT_IDENTIFIER == @patient_identifier\").fillna(method='pad')\n",
        "  tempDf2 = tempDf.query(\"PATIENT_VISIT_IDENTIFIER == @patient_identifier\").fillna(method='backfill')\n",
        "  filledData = pd.concat([filledData, tempDf2])"
      ],
      "metadata": {
        "id": "GrhWSjcG3XPx"
      },
      "execution_count": 26,
      "outputs": []
    },
    {
      "cell_type": "code",
      "source": [
        "imp = SimpleImputer(missing_values=np.nan, strategy='most_frequent')\n",
        "imp.fit(filledData)\n",
        "table = imp.transform(filledData)"
      ],
      "metadata": {
        "id": "9gbYRpwBAJPT"
      },
      "execution_count": 27,
      "outputs": []
    },
    {
      "cell_type": "markdown",
      "source": [
        "Remove time series information and reshape all information of each single patient into a single vector."
      ],
      "metadata": {
        "id": "xX2X9TgssLLH"
      }
    },
    {
      "cell_type": "code",
      "source": [
        "clean_table = np.concatenate((table[0,0:85], table[1,1:85], table[2,1:85], table[3,1:86]))\n",
        "for patient in range(1, 251):\n",
        "  row_number = int(patient * 4)\n",
        "  clean_table = np.vstack((clean_table, np.concatenate((table[row_number,0:85], table[row_number+1,1:85], table[row_number+2,1:85], table[row_number+3,1:86]))))"
      ],
      "metadata": {
        "id": "ZevxHFHpkLr_"
      },
      "execution_count": 28,
      "outputs": []
    },
    {
      "cell_type": "markdown",
      "source": [
        "# Classifiers"
      ],
      "metadata": {
        "id": "xxp9Eq-JKi1y"
      }
    },
    {
      "cell_type": "code",
      "source": [
        "#functions\n",
        "\n",
        "def random_imputation(df, feature):\n",
        "    number_missing = df[feature].isnull().sum()\n",
        "    observed_values = df.loc[df[feature].notnull(), feature]\n",
        "    df.loc[df[feature].isnull(), feature + '_imp'] = np.random.choice(observed_values, number_missing, replace=True)\n",
        "    return df\n",
        "\n",
        "def knn_imputation(X):\n",
        "  imputer = KNNImputer(n_neighbors=2, weights=\"uniform\")\n",
        "  return imputer.fit_transform(X)\n",
        "\n",
        "\n",
        "def logistic_regression(X_tr, X_ts, y_tr, cWeight):\n",
        "    clf = LogisticRegression(random_state=0, max_iter= 1000, class_weight=cWeight).fit(X_tr, y_tr.reshape(-1, ))\n",
        "    return clf.predict(X_ts)\n",
        "\n",
        "\n",
        "def support_vector_machine(X_tr, X_ts, y_tr,cWeight):\n",
        "    # default kernel is 'RBF'\n",
        "    clf = make_pipeline(StandardScaler(), SVC(gamma='auto', kernel='rbf', class_weight=cWeight))\n",
        "    clf.fit(X_tr, y_tr.reshape(-1, ))\n",
        "    return clf.predict(X_ts)\n",
        "\n",
        "\n",
        "def metrics_report(y_true, y_pred):\n",
        "  accuracy = accuracy_score(y_test, y_pred)\n",
        "  f1 = f1_score(y_test, y_pred)\n",
        "  balancedAccuracy = balanced_accuracy_score(y_test, y_pred)\n",
        "  precision = average_precision_score(y_test, y_pred)\n",
        "  return accuracy, f1, balancedAccuracy, precision"
      ],
      "metadata": {
        "id": "5hE7fCBN21ew"
      },
      "execution_count": 29,
      "outputs": []
    },
    {
      "cell_type": "markdown",
      "source": [
        "# Train and Prediction"
      ],
      "metadata": {
        "id": "TmhElFLcK_UM"
      }
    },
    {
      "cell_type": "code",
      "source": [
        "# define input-output sets\n",
        "inputs = clean_table[:,1:-1]\n",
        "outputs = clean_table[:,-1]\n",
        "print(inputs.shape)\n",
        "print(outputs.shape)"
      ],
      "metadata": {
        "colab": {
          "base_uri": "https://localhost:8080/"
        },
        "id": "utiNKPxPuQVL",
        "outputId": "6b97a830-ff27-45aa-b06f-6efd25404b2b"
      },
      "execution_count": 30,
      "outputs": [
        {
          "output_type": "stream",
          "name": "stdout",
          "text": [
            "(251, 336)\n",
            "(251,)\n"
          ]
        }
      ]
    },
    {
      "cell_type": "code",
      "source": [
        "#split data into train-test sets\n",
        "X_train, X_test, y_train, y_test = train_test_split(inputs, outputs, test_size=.3, shuffle=False)\n",
        "print(X_train.shape)\n",
        "print(X_test.shape)\n",
        "print(y_train.shape)\n",
        "print(y_test.shape)"
      ],
      "metadata": {
        "colab": {
          "base_uri": "https://localhost:8080/"
        },
        "id": "f9ELGEMswT_t",
        "outputId": "6ce8e974-9ecc-428b-e62e-dc6cc69e5543"
      },
      "execution_count": 31,
      "outputs": [
        {
          "output_type": "stream",
          "name": "stdout",
          "text": [
            "(175, 336)\n",
            "(76, 336)\n",
            "(175,)\n",
            "(76,)\n"
          ]
        }
      ]
    },
    {
      "cell_type": "code",
      "source": [
        "#PCA\n",
        "pca = PCA(.8)\n",
        "pca.fit(X_train)\n",
        "train_low_dim = pca.transform(X_train)\n",
        "test_low_dim = pca.transform(X_test)\n",
        "train_low_dim.shape"
      ],
      "metadata": {
        "colab": {
          "base_uri": "https://localhost:8080/"
        },
        "id": "99OHlk53ZIiQ",
        "outputId": "1dc3befa-6349-4916-ab13-f3d38b4ed149"
      },
      "execution_count": null,
      "outputs": [
        {
          "output_type": "execute_result",
          "data": {
            "text/plain": [
              "(175, 17)"
            ]
          },
          "metadata": {},
          "execution_count": 10
        }
      ]
    },
    {
      "cell_type": "code",
      "source": [
        "# train a logistic_regression classifier\n",
        "# without and without balancing weights with and without PCA\n",
        "print (' ---- Logistic regression experiments ----')\n",
        "y_predicted = logistic_regression(X_train, X_test, y_train, 'None')\n",
        "acc, f_1, balancedAcc, pr = metrics_report(y_test, y_predicted)\n",
        "\n",
        "print('')\n",
        "print('No balancing weights, no PCA')\n",
        "print ('accuracy:', acc)\n",
        "print ('f1_score:', f_1)\n",
        "print ('balanced accuracy:', balancedAcc)\n",
        "print ('average precision:', pr)\n",
        "\n",
        "# \n",
        "y_predicted = logistic_regression(train_low_dim, test_low_dim, y_train, 'None')\n",
        "acc, f_1, balancedAcc, pr = metrics_report(y_test, y_predicted)\n",
        "\n",
        "print('')\n",
        "print('No balancing weights, with PCA')\n",
        "print ('accuracy:', acc)\n",
        "print ('f1_score:', f_1)\n",
        "print ('balanced accuracy:', balancedAcc)\n",
        "print ('average precision:', pr)\n",
        "\n",
        "#\n",
        "y_predicted = logistic_regression(X_train, X_test, y_train, 'balanced')\n",
        "acc, f_1, balancedAcc, pr = metrics_report(y_test, y_predicted)\n",
        "print('')\n",
        "print('Weighted, no PCA')\n",
        "print ('accuracy:', acc)\n",
        "print ('f1_score:', f_1)\n",
        "print ('balanced accuracy:', balancedAcc)\n",
        "print ('average precision:', pr)\n",
        "\n",
        "#\n",
        "y_predicted = logistic_regression(train_low_dim, test_low_dim, y_train, 'balanced')\n",
        "acc, f_1, balancedAcc, pr = metrics_report(y_test, y_predicted)\n",
        "\n",
        "print('')\n",
        "print('Weighted, with PCA')\n",
        "print ('accuracy:', acc)\n",
        "print ('f1_score:', f_1)\n",
        "print ('balanced accuracy:', balancedAcc)\n",
        "print ('average precision:', pr)"
      ],
      "metadata": {
        "id": "9ftXDfyQwYrn",
        "colab": {
          "base_uri": "https://localhost:8080/"
        },
        "outputId": "a0dee075-01e5-486b-b34e-6a833bc033fe"
      },
      "execution_count": null,
      "outputs": [
        {
          "output_type": "stream",
          "name": "stdout",
          "text": [
            " ---- Logistic regression experiments ----\n",
            "\n",
            "No balancing weights, no PCA\n",
            "accuracy: 0.7105263157894737\n",
            "f1_score: 0.08333333333333333\n",
            "balanced accuracy: 0.47291666666666665\n",
            "average precision: 0.20518092105263158\n",
            "\n",
            "No balancing weights, with PCA\n",
            "accuracy: 0.7368421052631579\n",
            "f1_score: 0.16666666666666666\n",
            "balanced accuracy: 0.5125\n",
            "average precision: 0.21546052631578946\n",
            "\n",
            "Weighted, no PCA\n",
            "accuracy: 0.6973684210526315\n",
            "f1_score: 0.34285714285714286\n",
            "balanced accuracy: 0.5791666666666666\n",
            "average precision: 0.25\n",
            "\n",
            "Weighted, with PCA\n",
            "accuracy: 0.7105263157894737\n",
            "f1_score: 0.38888888888888884\n",
            "balanced accuracy: 0.6104166666666666\n",
            "average precision: 0.27154605263157894\n"
          ]
        }
      ]
    },
    {
      "cell_type": "code",
      "source": [
        "# train a linear support vector machine (SVM) classifier\n",
        "print (' ---- SVM with RBF kernel experiments ----')\n",
        "y_predicted = support_vector_machine(X_train, X_test, y_train,None)\n",
        "acc, f_1, balancedAcc, pr = metrics_report(y_test, y_predicted)\n",
        "\n",
        "print('')\n",
        "print('No balancing weights, no PCA')\n",
        "print ('accuracy:', acc)\n",
        "print ('f1_score:', f_1)\n",
        "print ('balanced accuracy:', balancedAcc)\n",
        "print ('average precision:', pr)\n",
        "\n",
        "#\n",
        "y_predicted = support_vector_machine(train_low_dim, test_low_dim, y_train, None)\n",
        "acc, f_1, balancedAcc, pr = metrics_report(y_test, y_predicted)\n",
        "\n",
        "print('')\n",
        "print('No balancing weights, with PCA')\n",
        "print ('accuracy:', acc)\n",
        "print ('f1_score:', f_1)\n",
        "print ('balanced accuracy:', balancedAcc)\n",
        "print ('average precision:', pr)\n",
        "\n",
        "#\n",
        "\n",
        "y_predicted = support_vector_machine(X_train, X_test, y_train,'balanced')\n",
        "acc, f_1, balancedAcc, pr = metrics_report(y_test, y_predicted)\n",
        "\n",
        "print('')\n",
        "print('Weighted, no PCA')\n",
        "print ('accuracy:', acc)\n",
        "print ('f1_score:', f_1)\n",
        "print ('balanced accuracy:', balancedAcc)\n",
        "print ('average precision:', pr)\n",
        "\n",
        "\n",
        "#\n",
        "y_predicted = support_vector_machine(train_low_dim, test_low_dim, y_train, 'balanced')\n",
        "acc, f_1, balancedAcc, pr = metrics_report(y_test, y_predicted)\n",
        "\n",
        "print('')\n",
        "print('weighted, with PCA')\n",
        "print ('accuracy:', acc)\n",
        "print ('f1_score:', f_1)\n",
        "print ('balanced accuracy:', balancedAcc)\n",
        "print ('average precision:', pr)"
      ],
      "metadata": {
        "id": "hnr-iZXs7MdT",
        "colab": {
          "base_uri": "https://localhost:8080/"
        },
        "outputId": "b7bd9d90-f71e-4df7-a711-9366b41a8875"
      },
      "execution_count": null,
      "outputs": [
        {
          "output_type": "stream",
          "name": "stdout",
          "text": [
            " ---- SVM with RBF kernel experiments ----\n",
            "\n",
            "No balancing weights, no PCA\n",
            "accuracy: 0.7763157894736842\n",
            "f1_score: 0.0\n",
            "balanced accuracy: 0.49166666666666664\n",
            "average precision: 0.21052631578947367\n",
            "\n",
            "No balancing weights, with PCA\n",
            "accuracy: 0.7763157894736842\n",
            "f1_score: 0.0\n",
            "balanced accuracy: 0.49166666666666664\n",
            "average precision: 0.21052631578947367\n",
            "\n",
            "Weighted, no PCA\n",
            "accuracy: 0.6842105263157895\n",
            "f1_score: 0.4\n",
            "balanced accuracy: 0.6166666666666667\n",
            "average precision: 0.27192982456140347\n",
            "\n",
            "weighted, with PCA\n",
            "accuracy: 0.6710526315789473\n",
            "f1_score: 0.24242424242424243\n",
            "balanced accuracy: 0.5166666666666666\n",
            "average precision: 0.21671826625386997\n"
          ]
        }
      ]
    },
    {
      "cell_type": "code",
      "source": [
        "# train a non linear support_vector_machine classifier\n",
        "\n",
        "print (' ---- Nonlinear SVM experiments ----')\n",
        "clf = NuSVC(gamma=\"auto\", nu=0.1, class_weight=None)\n",
        "clf.fit(X_train, y_train)\n",
        "y_predicted = clf.predict(X_test)\n",
        "acc, f_1, balancedAcc, pr = metrics_report(y_test, y_predicted)\n",
        "\n",
        "print('')\n",
        "print('No balancing weights, no PCA')\n",
        "print ('accuracy:', acc)\n",
        "print ('f1_score:', f_1)\n",
        "print ('balanced accuracy:', balancedAcc)\n",
        "print ('average precision:', pr)\n",
        "\n",
        "#\n",
        "clf = NuSVC(gamma=\"auto\", nu=0.1, class_weight=None)\n",
        "clf.fit(train_low_dim, y_train)\n",
        "y_predicted = clf.predict(test_low_dim)\n",
        "acc, f_1, balancedAcc, pr = metrics_report(y_test, y_predicted)\n",
        "\n",
        "print('')\n",
        "print('No balancing weights, with PCA')\n",
        "print ('accuracy:', acc)\n",
        "print ('f1_score:', f_1)\n",
        "print ('balanced accuracy:', balancedAcc)\n",
        "print ('average precision:', pr)\n",
        "\n",
        "#\n",
        "\n",
        "clf = NuSVC(gamma=\"auto\", nu=0.1, class_weight='balanced')\n",
        "clf.fit(X_train, y_train)\n",
        "y_predicted = clf.predict(X_test)\n",
        "acc, f_1, balancedAcc, pr = metrics_report(y_test, y_predicted)\n",
        "\n",
        "print('')\n",
        "print('weighted, no PCA')\n",
        "print ('accuracy:', acc)\n",
        "print ('f1_score:', f_1)\n",
        "print ('balanced accuracy:', balancedAcc)\n",
        "print ('average precision:', pr)\n",
        "\n",
        "\n",
        "#\n",
        "clf = NuSVC(gamma=\"auto\", nu=0.1, class_weight='balanced')\n",
        "clf.fit(train_low_dim, y_train)\n",
        "y_predicted = clf.predict(test_low_dim)\n",
        "acc, f_1, balancedAcc, pr = metrics_report(y_test, y_predicted)\n",
        "\n",
        "print('')\n",
        "print('weighted, with PCA')\n",
        "print ('accuracy:', acc)\n",
        "print ('f1_score:', f_1)\n",
        "print ('balanced accuracy:', balancedAcc)\n",
        "print ('average precision:', pr)"
      ],
      "metadata": {
        "id": "Tz5IDX8aE2gR",
        "colab": {
          "base_uri": "https://localhost:8080/"
        },
        "outputId": "84ef6b8e-4158-4e10-af51-7a22ab5e9c74"
      },
      "execution_count": null,
      "outputs": [
        {
          "output_type": "stream",
          "name": "stdout",
          "text": [
            " ---- Nonlinear SVM experiments ----\n",
            "\n",
            "No balancing weights, no PCA\n",
            "accuracy: 0.6578947368421053\n",
            "f1_score: 0.13333333333333333\n",
            "balanced accuracy: 0.4625\n",
            "average precision: 0.2020676691729323\n",
            "\n",
            "No balancing weights, with PCA\n",
            "accuracy: 0.618421052631579\n",
            "f1_score: 0.2564102564102564\n",
            "balanced accuracy: 0.50625\n",
            "average precision: 0.2126716247139588\n",
            "\n",
            "weighted, no PCA\n",
            "accuracy: 0.6578947368421053\n",
            "f1_score: 0.13333333333333333\n",
            "balanced accuracy: 0.4625\n",
            "average precision: 0.2020676691729323\n",
            "\n",
            "weighted, with PCA\n",
            "accuracy: 0.618421052631579\n",
            "f1_score: 0.2564102564102564\n",
            "balanced accuracy: 0.50625\n",
            "average precision: 0.2126716247139588\n"
          ]
        }
      ]
    },
    {
      "cell_type": "code",
      "source": [
        "# PCA and t_SNE cluster visualization\n",
        "\n",
        "# standardize the data\n",
        "from sklearn.preprocessing import StandardScaler\n",
        "from scipy.linalg import eigh\n",
        "import seaborn as sns\n",
        "import matplotlib.pyplot as plt\n",
        "\n",
        "inputs = clean_table[:,1:-1]\n",
        "outputs = clean_table[:,-1]\n",
        "\n",
        "# inputs = np.vstack((inputs, inputs))\n",
        "# outputs = np.hstack((outputs, outputs))\n",
        "\n",
        "standardized_data = StandardScaler().fit_transform(inputs)\n",
        "sample_data = standardized_data\n",
        "\n",
        "# PCA\n",
        "cov_matrix = np.matmul(sample_data.T, sample_data)\n",
        "values, vectors = eigh(cov_matrix, eigvals=(334, 335))\n",
        "new_cord = np.matmul(vectors.T, sample_data.T)\n",
        "new_cord = np.vstack((new_cord, outputs)).T\n",
        "\n",
        "dataframe = pd.DataFrame(data=new_cord, columns=(\"1st Principle\", \n",
        "                                                 \"2nd Principle\", \"labels\"))\n",
        "sns.FacetGrid(dataframe, hue=\"labels\", height=6).map(plt.scatter, \"1st Principle\", \n",
        "                                                 \"2nd Principle\", s=10).add_legend()\n",
        "plt.show()"
      ],
      "metadata": {
        "colab": {
          "base_uri": "https://localhost:8080/",
          "height": 441
        },
        "id": "eqZ-5b5uxd1D",
        "outputId": "ad3e3998-c057-4e4c-82e4-3542f64aee0a"
      },
      "execution_count": null,
      "outputs": [
        {
          "output_type": "display_data",
          "data": {
            "text/plain": [
              "<Figure size 483.875x432 with 1 Axes>"
            ],
            "image/png": "[encoded data removed]"
          },
          "metadata": {
            "needs_background": "light"
          }
        }
      ]
    },
    {
      "cell_type": "code",
      "source": [
        "# PCA with sklearn\n",
        "from sklearn import decomposition\n",
        "pca = decomposition.PCA()\n",
        "pca.n_components = 2\n",
        "pca_data = pca.fit_transform(sample_data)\n",
        "pca_data = np.vstack((pca_data.T, outputs)).T\n",
        "pca_df = pd.DataFrame(pca_data, columns=(\"1st Principle\", \n",
        "                                                 \"2nd Principle\", \"labels\"))\n",
        "sns.FacetGrid(pca_df, hue=\"labels\", height=6).map(plt.scatter, \"1st Principle\", \n",
        "                                                 \"2nd Principle\", s=10).add_legend()\n",
        "plt.show()"
      ],
      "metadata": {
        "colab": {
          "base_uri": "https://localhost:8080/",
          "height": 441
        },
        "id": "moRJ9Hr55BrX",
        "outputId": "a13266f8-297c-420e-f5a2-7cf2a4048339"
      },
      "execution_count": null,
      "outputs": [
        {
          "output_type": "display_data",
          "data": {
            "text/plain": [
              "<Figure size 483.875x432 with 1 Axes>"
            ],
            "image/png": "[encoded data removed]"
          },
          "metadata": {
            "needs_background": "light"
          }
        }
      ]
    },
    {
      "cell_type": "code",
      "source": [
        "from IPython.core.pylabtools import figsize\n",
        "# find most influential components\n",
        "pca.n_components = 251\n",
        "pca_data = pca.fit_transform(sample_data)\n",
        "percentage_var_explained = pca.explained_variance_ / np.sum(pca.explained_variance_)\n",
        "cum_var_explained = np.cumsum(percentage_var_explained)\n",
        "\n",
        "plt.figure(1, figsize=(6, 4))\n",
        "plt.clf()\n",
        "plt.plot(cum_var_explained, linewidth=2)\n",
        "plt.axis('tight')\n",
        "plt.grid()\n",
        "plt.xlabel(\"--[components]--\")\n",
        "plt.ylabel('Cumulative_explained_variance')\n",
        "plt.show()"
      ],
      "metadata": {
        "colab": {
          "base_uri": "https://localhost:8080/",
          "height": 279
        },
        "id": "YIgQX4OV6_uM",
        "outputId": "eaac97f8-8ea9-4454-8814-3585653e1511"
      },
      "execution_count": null,
      "outputs": [
        {
          "output_type": "display_data",
          "data": {
            "text/plain": [
              "<Figure size 432x288 with 1 Axes>"
            ],
            "image/png": "[encoded data removed]"
          },
          "metadata": {
            "needs_background": "light"
          }
        }
      ]
    },
    {
      "cell_type": "code",
      "source": [
        "#t_SNE\n",
        "from sklearn.manifold import TSNE\n",
        "model = TSNE(n_components=2, perplexity=50, \n",
        "             learning_rate='auto', n_iter=500, n_iter_without_progress=300, \n",
        "             min_grad_norm=1e-07, metric='euclidean',\n",
        "             init='pca', verbose=0, random_state=None, method='barnes_hut', \n",
        "             n_jobs=None, square_distances=True)\n",
        "# configuring the parameteres\n",
        "# the number of components = 2\n",
        "# default perplexity = 30\n",
        "# default learning rate = 200\n",
        "# default Maximum number of iterations for the optimization = 1000\n",
        "\n",
        "tsne_data = model.fit_transform(sample_data)\n",
        "# creating a new data frame which help us in ploting the result data\n",
        "tsne_data = np.vstack((tsne_data.T, outputs)).T\n",
        "tsne_df = pd.DataFrame(data=tsne_data, columns=(\"Dim_1\", \"Dim_2\", \"label\"))\n",
        "\n",
        "# Ploting the result of tsne\n",
        "sns.FacetGrid(tsne_df, hue=\"label\", size=6).map(plt.scatter, 'Dim_1', 'Dim_2', s=10).add_legend()\n",
        "plt.show()"
      ],
      "metadata": {
        "colab": {
          "base_uri": "https://localhost:8080/",
          "height": 530
        },
        "id": "OeaiqI1F-ROK",
        "outputId": "4bda1932-caf2-4883-d4fe-80ce2575a4f3"
      },
      "execution_count": null,
      "outputs": [
        {
          "output_type": "stream",
          "name": "stderr",
          "text": [
            "/usr/local/lib/python3.7/dist-packages/sklearn/manifold/_t_sne.py:986: FutureWarning: The PCA initialization in TSNE will change to have the standard deviation of PC1 equal to 1e-4 in 1.2. This will ensure better convergence.\n",
            "  FutureWarning,\n",
            "/usr/local/lib/python3.7/dist-packages/seaborn/axisgrid.py:337: UserWarning: The `size` parameter has been renamed to `height`; please update your code.\n",
            "  warnings.warn(msg, UserWarning)\n"
          ]
        },
        {
          "output_type": "display_data",
          "data": {
            "text/plain": [
              "<Figure size 483.875x432 with 1 Axes>"
            ],
            "image/png": "[encoded data removed]"
          },
          "metadata": {
            "needs_background": "light"
          }
        }
      ]
    },
    {
      "cell_type": "code",
      "source": [
        "pip install umap-learn"
      ],
      "metadata": {
        "colab": {
          "base_uri": "https://localhost:8080/"
        },
        "id": "avzOnOfEBPue",
        "outputId": "85a98442-0694-45e3-817e-8151c0ffa850"
      },
      "execution_count": null,
      "outputs": [
        {
          "output_type": "stream",
          "name": "stdout",
          "text": [
            "Looking in indexes: https://pypi.org/simple, https://us-python.pkg.dev/colab-wheels/public/simple/\n",
            "Collecting umap-learn\n",
            "  Downloading umap-learn-0.5.3.tar.gz (88 kB)\n",
            "\u001b[K     |████████████████████████████████| 88 kB 3.4 MB/s \n",
            "\u001b[?25hRequirement already satisfied: numpy>=1.17 in /usr/local/lib/python3.7/dist-packages (from umap-learn) (1.21.6)\n",
            "Requirement already satisfied: scikit-learn>=0.22 in /usr/local/lib/python3.7/dist-packages (from umap-learn) (1.0.2)\n",
            "Requirement already satisfied: scipy>=1.0 in /usr/local/lib/python3.7/dist-packages (from umap-learn) (1.4.1)\n",
            "Requirement already satisfied: numba>=0.49 in /usr/local/lib/python3.7/dist-packages (from umap-learn) (0.51.2)\n",
            "Collecting pynndescent>=0.5\n",
            "  Downloading pynndescent-0.5.7.tar.gz (1.1 MB)\n",
            "\u001b[K     |████████████████████████████████| 1.1 MB 27.0 MB/s \n",
            "\u001b[?25hRequirement already satisfied: tqdm in /usr/local/lib/python3.7/dist-packages (from umap-learn) (4.64.0)\n",
            "Requirement already satisfied: setuptools in /usr/local/lib/python3.7/dist-packages (from numba>=0.49->umap-learn) (57.4.0)\n",
            "Requirement already satisfied: llvmlite<0.35,>=0.34.0.dev0 in /usr/local/lib/python3.7/dist-packages (from numba>=0.49->umap-learn) (0.34.0)\n",
            "Requirement already satisfied: joblib>=0.11 in /usr/local/lib/python3.7/dist-packages (from pynndescent>=0.5->umap-learn) (1.1.0)\n",
            "Requirement already satisfied: threadpoolctl>=2.0.0 in /usr/local/lib/python3.7/dist-packages (from scikit-learn>=0.22->umap-learn) (3.1.0)\n",
            "Building wheels for collected packages: umap-learn, pynndescent\n",
            "  Building wheel for umap-learn (setup.py) ... \u001b[?25l\u001b[?25hdone\n",
            "  Created wheel for umap-learn: filename=umap_learn-0.5.3-py3-none-any.whl size=82829 sha256=bed4a92b844c494083429fffeb83134a0a02a851573054bb845508f544046bb7\n",
            "  Stored in directory: /root/.cache/pip/wheels/b3/52/a5/1fd9e3e76a7ab34f134c07469cd6f16e27ef3a37aeff1fe821\n",
            "  Building wheel for pynndescent (setup.py) ... \u001b[?25l\u001b[?25hdone\n",
            "  Created wheel for pynndescent: filename=pynndescent-0.5.7-py3-none-any.whl size=54286 sha256=38dfdcc1fa868aeb5ad32bd6d8841669c2a30bf9d7b4de04b5416f5281bced39\n",
            "  Stored in directory: /root/.cache/pip/wheels/7f/2a/f8/7bd5dcec71bd5c669f6f574db3113513696b98f3f9b51f496c\n",
            "Successfully built umap-learn pynndescent\n",
            "Installing collected packages: pynndescent, umap-learn\n",
            "Successfully installed pynndescent-0.5.7 umap-learn-0.5.3\n"
          ]
        }
      ]
    },
    {
      "cell_type": "code",
      "source": [
        "#UMAP: unsupervised \n",
        "import umap\n",
        "# standardized_data = StandardScaler().fit_transform(inputs)\n",
        "# sample_data = standardized_data\n",
        "\n",
        "reducer = umap.UMAP(n_neighbors=100, # default 15, The size of local neighborhood (in terms of number of neighboring sample points) used for manifold approximation.\n",
        "               n_components=2, # default 2, The dimension of the space to embed into.\n",
        "               metric='euclidean', # default 'euclidean', The metric to use to compute distances in high dimensional space.\n",
        "               n_epochs=1000, # default None, The number of training epochs to be used in optimizing the low dimensional embedding. Larger values result in more accurate embeddings. \n",
        "               learning_rate=1.0, # default 1.0, The initial learning rate for the embedding optimization.\n",
        "               init='random', # default 'spectral', How to initialize the low dimensional embedding. Options are: {'spectral', 'random', A numpy array of initial embedding positions}.\n",
        "               min_dist=0.001, # default 0.1, The effective minimum distance between embedded points.\n",
        "               spread=1.0, # default 1.0, The effective scale of embedded points. In combination with ``min_dist`` this determines how clustered/clumped the embedded points are.\n",
        "               low_memory=False, # default False, For some datasets the nearest neighbor computation can consume a lot of memory. If you find that UMAP is failing due to memory constraints consider setting this option to True.\n",
        "               set_op_mix_ratio=1.0, # default 1.0, The value of this parameter should be between 0.0 and 1.0; a value of 1.0 will use a pure fuzzy union, while 0.0 will use a pure fuzzy intersection.\n",
        "               local_connectivity=1, # default 1, The local connectivity required -- i.e. the number of nearest neighbors that should be assumed to be connected at a local level.\n",
        "               repulsion_strength=1.0, # default 1.0, Weighting applied to negative samples in low dimensional embedding optimization.\n",
        "               negative_sample_rate=5, # default 5, Increasing this value will result in greater repulsive force being applied, greater optimization cost, but slightly more accuracy.\n",
        "               transform_queue_size=4.0, # default 4.0, Larger values will result in slower performance but more accurate nearest neighbor evaluation.\n",
        "               a=None, # default None, More specific parameters controlling the embedding. If None these values are set automatically as determined by ``min_dist`` and ``spread``.\n",
        "               b=None, # default None, More specific parameters controlling the embedding. If None these values are set automatically as determined by ``min_dist`` and ``spread``.\n",
        "               random_state=42, # default: None, If int, random_state is the seed used by the random number generator;\n",
        "               metric_kwds=None, # default None) Arguments to pass on to the metric, such as the ``p`` value for Minkowski distance.\n",
        "               angular_rp_forest=False, # default False, Whether to use an angular random projection forest to initialise the approximate nearest neighbor search.\n",
        "               target_n_neighbors=-1, # default -1, The number of nearest neighbors to use to construct the target simplcial set. If set to -1 use the ``n_neighbors`` value.\n",
        "               #target_metric='categorical', # default 'categorical', The metric used to measure distance for a target array is using supervised dimension reduction. By default this is 'categorical' which will measure distance in terms of whether categories match or are different. \n",
        "               #target_metric_kwds=None, # dict, default None, Keyword argument to pass to the target metric when performing supervised dimension reduction. If None then no arguments are passed on.\n",
        "               #target_weight=0.5, # default 0.5, weighting factor between data topology and target topology.\n",
        "               transform_seed=42, # default 42, Random seed used for the stochastic aspects of the transform operation.\n",
        "               verbose=False, # default False, Controls verbosity of logging.\n",
        "               unique=False, # default False, Controls if the rows of your data should be uniqued before being embedded. \n",
        "              )\n",
        "\n",
        "embedding = reducer.fit_transform(inputs)\n",
        "embedding_data = np.vstack((embedding.T, outputs)).T\n",
        "embedding_df = pd.DataFrame(data=embedding_data, columns=(\"Dim_1\", \"Dim_2\", \"label\"))\n",
        "\n",
        "# Ploting the result of tsne\n",
        "sns.FacetGrid(embedding_df, hue=\"label\", size=6).map(plt.scatter, 'Dim_1', 'Dim_2', s=10).add_legend()\n",
        "plt.show()\n"
      ],
      "metadata": {
        "colab": {
          "base_uri": "https://localhost:8080/",
          "height": 476
        },
        "id": "blSaJ0OgAVkz",
        "outputId": "6ea37cd9-51b4-461f-e1cd-617da979b925"
      },
      "execution_count": null,
      "outputs": [
        {
          "output_type": "stream",
          "name": "stderr",
          "text": [
            "/usr/local/lib/python3.7/dist-packages/seaborn/axisgrid.py:337: UserWarning: The `size` parameter has been renamed to `height`; please update your code.\n",
            "  warnings.warn(msg, UserWarning)\n"
          ]
        },
        {
          "output_type": "display_data",
          "data": {
            "text/plain": [
              "<Figure size 483.875x432 with 1 Axes>"
            ],
            "image/png": "[encoded data removed]"
          },
          "metadata": {
            "needs_background": "light"
          }
        }
      ]
    },
    {
      "cell_type": "code",
      "source": [
        "#UMAP: supervised \n",
        "X_train, X_test, y_train, y_test = train_test_split(inputs, outputs, test_size=.5, shuffle=False)\n",
        "\n",
        "reducer = umap.UMAP(n_neighbors=50, # default 15, The size of local neighborhood (in terms of number of neighboring sample points) used for manifold approximation.\n",
        "               n_components=2, # default 2, The dimension of the space to embed into.\n",
        "               metric='euclidean', # default 'euclidean', The metric to use to compute distances in high dimensional space.\n",
        "               n_epochs=1000, # default None, The number of training epochs to be used in optimizing the low dimensional embedding. Larger values result in more accurate embeddings. \n",
        "               learning_rate=1.0, # default 1.0, The initial learning rate for the embedding optimization.\n",
        "               init='spectral', # default 'spectral', How to initialize the low dimensional embedding. Options are: {'spectral', 'random', A numpy array of initial embedding positions}.\n",
        "               min_dist=0.001, # default 0.1, The effective minimum distance between embedded points.\n",
        "               spread=1.0, # default 1.0, The effective scale of embedded points. In combination with ``min_dist`` this determines how clustered/clumped the embedded points are.\n",
        "               low_memory=False, # default False, For some datasets the nearest neighbor computation can consume a lot of memory. If you find that UMAP is failing due to memory constraints consider setting this option to True.\n",
        "               set_op_mix_ratio=1.0, # default 1.0, The value of this parameter should be between 0.0 and 1.0; a value of 1.0 will use a pure fuzzy union, while 0.0 will use a pure fuzzy intersection.\n",
        "               local_connectivity=1, # default 1, The local connectivity required -- i.e. the number of nearest neighbors that should be assumed to be connected at a local level.\n",
        "               repulsion_strength=1.0, # default 1.0, Weighting applied to negative samples in low dimensional embedding optimization.\n",
        "               negative_sample_rate=5, # default 5, Increasing this value will result in greater repulsive force being applied, greater optimization cost, but slightly more accuracy.\n",
        "               transform_queue_size=4.0, # default 4.0, Larger values will result in slower performance but more accurate nearest neighbor evaluation.\n",
        "               a=None, # default None, More specific parameters controlling the embedding. If None these values are set automatically as determined by ``min_dist`` and ``spread``.\n",
        "               b=None, # default None, More specific parameters controlling the embedding. If None these values are set automatically as determined by ``min_dist`` and ``spread``.\n",
        "               random_state=42, # default: None, If int, random_state is the seed used by the random number generator;\n",
        "               metric_kwds=None, # default None) Arguments to pass on to the metric, such as the ``p`` value for Minkowski distance.\n",
        "               angular_rp_forest=False, # default False, Whether to use an angular random projection forest to initialise the approximate nearest neighbor search.\n",
        "               target_n_neighbors=-1, # default -1, The number of nearest neighbors to use to construct the target simplcial set. If set to -1 use the ``n_neighbors`` value.\n",
        "               #target_metric='categorical', # default 'categorical', The metric used to measure distance for a target array is using supervised dimension reduction. By default this is 'categorical' which will measure distance in terms of whether categories match or are different. \n",
        "               #target_metric_kwds=None, # dict, default None, Keyword argument to pass to the target metric when performing supervised dimension reduction. If None then no arguments are passed on.\n",
        "               #target_weight=0.5, # default 0.5, weighting factor between data topology and target topology.\n",
        "               transform_seed=42, # default 42, Random seed used for the stochastic aspects of the transform operation.\n",
        "               verbose=False, # default False, Controls verbosity of logging.\n",
        "               unique=False, # default False, Controls if the rows of your data should be uniqued before being embedded. \n",
        "              )\n",
        "\n",
        "embedding = reducer.fit_transform(X_train, y_train)\n",
        "X_test_res = reducer.transform(X_test)\n",
        "\n",
        "embedding_data_train = np.vstack((embedding.T, y_train)).T\n",
        "embedding_train_df = pd.DataFrame(data=embedding_data_train, columns=(\"Dim_1\", \"Dim_2\", \"label\"))\n",
        "\n",
        "embedding_data_test = np.vstack((X_test_res.T, y_test)).T\n",
        "embedding_test_df = pd.DataFrame(data=embedding_data_test, columns=(\"Dim_1\", \"Dim_2\", \"label\"))\n",
        "\n",
        "# Ploting the result of umap\n",
        "sns.FacetGrid(embedding_train_df, hue=\"label\", size=6).map(plt.scatter, 'Dim_1', 'Dim_2', s=10).add_legend()\n",
        "\n",
        "# Ploting the result of umap\n",
        "sns.FacetGrid(embedding_test_df, hue=\"label\", size=6).map(plt.scatter, 'Dim_1', 'Dim_2', s=10).add_legend()\n",
        "plt.show()"
      ],
      "metadata": {
        "colab": {
          "base_uri": "https://localhost:8080/",
          "height": 934
        },
        "id": "5uK7jMLsBdRh",
        "outputId": "52c80998-52a1-42a8-e265-6f5528b873f3"
      },
      "execution_count": null,
      "outputs": [
        {
          "output_type": "stream",
          "name": "stderr",
          "text": [
            "/usr/local/lib/python3.7/dist-packages/seaborn/axisgrid.py:337: UserWarning: The `size` parameter has been renamed to `height`; please update your code.\n",
            "  warnings.warn(msg, UserWarning)\n",
            "/usr/local/lib/python3.7/dist-packages/seaborn/axisgrid.py:337: UserWarning: The `size` parameter has been renamed to `height`; please update your code.\n",
            "  warnings.warn(msg, UserWarning)\n"
          ]
        },
        {
          "output_type": "display_data",
          "data": {
            "text/plain": [
              "<Figure size 483.875x432 with 1 Axes>"
            ],
            "image/png": "[encoded data removed]"
          },
          "metadata": {
            "needs_background": "light"
          }
        },
        {
          "output_type": "display_data",
          "data": {
            "text/plain": [
              "<Figure size 483.875x432 with 1 Axes>"
            ],
            "image/png": "[encoded data removed]"
          },
          "metadata": {
            "needs_background": "light"
          }
        }
      ]
    },
    {
      "cell_type": "code",
      "source": [
        "#PCA\n",
        "from sklearn.decomposition import PCA\n",
        "#TSNE\n",
        "from sklearn.manifold import TSNE\n",
        "#UMAP\n",
        "import umap\n",
        "#LDA\n",
        "from sklearn.discriminant_analysis import LinearDiscriminantAnalysis as LDA"
      ],
      "metadata": {
        "id": "Gh4IZ8VrbtLy"
      },
      "execution_count": null,
      "outputs": []
    },
    {
      "cell_type": "code",
      "source": [
        "def plot_2d(component1, component2):\n",
        "    \n",
        "    fig = go.Figure(data=go.Scatter(\n",
        "        x = component1,\n",
        "        y = component2,\n",
        "        mode='markers',\n",
        "        marker=dict(\n",
        "            size=20,\n",
        "            color=y, #set color equal to a variable\n",
        "            colorscale='Rainbow', # one of plotly colorscales\n",
        "            showscale=True,\n",
        "            line_width=1\n",
        "        )\n",
        "    ))\n",
        "    fig.update_layout(margin=dict( l=100,r=100,b=100,t=100),width=2000,height=1200)                 \n",
        "    fig.layout.template = 'plotly_dark'\n",
        "    \n",
        "    fig.show()\n",
        "\n",
        "def plot_3d(component1,component2,component3):\n",
        "  fig = go.Figure(data=[go.Scatter3d(\n",
        "    x=component1,\n",
        "    y=component2,\n",
        "    z=component3,\n",
        "    mode='markers',\n",
        "    marker=dict(\n",
        "        size=10,\n",
        "        color=y,                # set color to an array/list of desired values\n",
        "        colorscale='Rainbow',   # choose a colorscale\n",
        "        opacity=1,\n",
        "        line_width=1\n",
        "    )\n",
        "  )])\n",
        "  # tight layout\n",
        "  fig.update_layout(margin=dict(l=50,r=50,b=50,t=50),width=1800,height=1000)\n",
        "  fig.layout.template = 'plotly_dark'\n",
        "\n",
        "  fig.show()"
      ],
      "metadata": {
        "id": "2zzcOo4xcQWK"
      },
      "execution_count": null,
      "outputs": []
    },
    {
      "cell_type": "code",
      "source": [
        "from sklearn.preprocessing import StandardScaler\n",
        "## Standardizing the data\n",
        "tps = StandardScaler().fit_transform(inputs)"
      ],
      "metadata": {
        "id": "s59YFNnpcj_m"
      },
      "execution_count": null,
      "outputs": []
    },
    {
      "cell_type": "code",
      "source": [
        "from sklearn.impute import SimpleImputer\n",
        "from sklearn.pipeline import make_pipeline\n",
        "# Preprocess\n",
        "pipe = make_pipeline(SimpleImputer(strategy=\"mean\"))\n",
        "X = pipe.fit_transform(tps.copy())"
      ],
      "metadata": {
        "id": "KWkVuBw4c64P"
      },
      "execution_count": null,
      "outputs": []
    },
    {
      "cell_type": "code",
      "source": [
        "manifold = umap.UMAP().fit(sample_data, outputs)\n",
        "X_reduced = manifold.transform(sample_data)"
      ],
      "metadata": {
        "id": "O19QP9xRdVkQ"
      },
      "execution_count": null,
      "outputs": []
    },
    {
      "cell_type": "code",
      "source": [
        ""
      ],
      "metadata": {
        "id": "MpKsWxODiWZV"
      },
      "execution_count": null,
      "outputs": []
    },
    {
      "cell_type": "code",
      "source": [
        "\n",
        "plt.scatter(X_reduced[:, 0], X_reduced[:, 1], c=outputs, s=0.5);"
      ],
      "metadata": {
        "colab": {
          "base_uri": "https://localhost:8080/",
          "height": 266
        },
        "id": "dVapFzTvdmjI",
        "outputId": "44184ee7-030a-4332-b026-5693dcf6a744"
      },
      "execution_count": null,
      "outputs": [
        {
          "output_type": "display_data",
          "data": {
            "text/plain": [
              "<Figure size 432x288 with 1 Axes>"
            ],
            "image/png": "[encoded data removed]"
          },
          "metadata": {
            "needs_background": "light"
          }
        }
      ]
    },
    {
      "cell_type": "code",
      "source": [
        "embedding_data = np.vstack((X_reduced.T, outputs)).T\n",
        "embedding_df = pd.DataFrame(data=embedding_data, columns=(\"Dim_1\", \"Dim_2\", \"label\"))\n",
        "\n",
        "# Ploting the result of tsne\n",
        "sns.FacetGrid(embedding_df, hue=\"label\", size=6).map(plt.scatter, 'Dim_1', 'Dim_2', s=10).add_legend()\n",
        "plt.show()"
      ],
      "metadata": {
        "colab": {
          "base_uri": "https://localhost:8080/",
          "height": 476
        },
        "id": "ZDbWTMwJfBv6",
        "outputId": "41aa62b3-a8bb-4cfb-bff3-1fe774bced04"
      },
      "execution_count": null,
      "outputs": [
        {
          "output_type": "stream",
          "name": "stderr",
          "text": [
            "/usr/local/lib/python3.7/dist-packages/seaborn/axisgrid.py:337: UserWarning: The `size` parameter has been renamed to `height`; please update your code.\n",
            "  warnings.warn(msg, UserWarning)\n"
          ]
        },
        {
          "output_type": "display_data",
          "data": {
            "text/plain": [
              "<Figure size 483.875x432 with 1 Axes>"
            ],
            "image/png": "[encoded data removed]"
          },
          "metadata": {
            "needs_background": "light"
          }
        }
      ]
    },
    {
      "cell_type": "code",
      "source": [
        "# random forest as a simple example of ensemble learning \n",
        "\n",
        "#Import Random Forest Model\n",
        "from sklearn.ensemble import RandomForestClassifier\n",
        "\n",
        "#Create and train a Gaussian Classifier\n",
        "clf=RandomForestClassifier(n_estimators=100)\n",
        "clf.fit(X_train,y_train)\n",
        "\n",
        "y_predicted=clf.predict(X_test)\n",
        "\n",
        "acc, f_1, balancedAcc, pr = metrics_report(y_test, y_predicted)\n",
        "\n",
        "print('')\n",
        "print('---- Random Forest Experiment ----')\n",
        "print ('accuracy:', acc)\n",
        "print ('f1_score:', f_1)\n",
        "print ('balanced accuracy:', balancedAcc)\n",
        "print ('average precision:', pr)"
      ],
      "metadata": {
        "colab": {
          "base_uri": "https://localhost:8080/"
        },
        "id": "IJWiUsaHP58n",
        "outputId": "be4e6224-ca4c-473c-9065-196589dfcdf4"
      },
      "execution_count": 33,
      "outputs": [
        {
          "output_type": "stream",
          "name": "stdout",
          "text": [
            "\n",
            "---- Random Forest Experiment ----\n",
            "accuracy: 0.7894736842105263\n",
            "f1_score: 0.2\n",
            "balanced accuracy: 0.5458333333333334\n",
            "average precision: 0.24671052631578946\n"
          ]
        }
      ]
    },
    {
      "cell_type": "code",
      "source": [
        "import statistics\n",
        "\n",
        "# Random Forest Experiment: Gini criterion, no bootstrap, no weighted \n",
        "itr_num = 100\n",
        "acc = []\n",
        "f_1= []\n",
        "balancedAcc = []\n",
        "pr = []\n",
        "\n",
        "for exp in range(itr_num):\n",
        "  clf = RandomForestClassifier(bootstrap=False, class_weight=None, criterion='gini',\n",
        "              max_depth=None, max_features='auto', max_leaf_nodes=None,\n",
        "              min_impurity_decrease=0.0,\n",
        "              min_samples_leaf=1, min_samples_split=2,\n",
        "              min_weight_fraction_leaf=0.0, n_estimators=100, n_jobs=1,\n",
        "              oob_score=False, random_state=None, verbose=0,\n",
        "              warm_start=False)\n",
        "\n",
        "  clf.fit(X_train,y_train)\n",
        "\n",
        "  y_predicted=clf.predict(X_test)\n",
        "\n",
        "  a, f, b, p = metrics_report(y_test, y_predicted)\n",
        "  acc.append(a) \n",
        "  f_1.append(f)\n",
        "  balancedAcc.append(b)\n",
        "  pr.append(p)\n",
        "\n",
        "print('')\n",
        "print ('accuracy:', statistics.mean(acc), 'std:', statistics.pstdev(acc))\n",
        "print ('f1_score:', statistics.mean(f_1), 'std:', statistics.pstdev(f_1))\n",
        "print ('balanced accuracy:', statistics.mean(balancedAcc), 'std:', statistics.pstdev(balancedAcc))\n",
        "print ('average precision:', statistics.mean(pr), 'std:', statistics.pstdev(pr))"
      ],
      "metadata": {
        "colab": {
          "base_uri": "https://localhost:8080/"
        },
        "id": "97XIxva_RuVd",
        "outputId": "066b242e-f23f-432f-b13e-652054da302a"
      },
      "execution_count": null,
      "outputs": [
        {
          "output_type": "stream",
          "name": "stdout",
          "text": [
            "\n",
            "accuracy: 0.7882894736842105 std: 0.022181494495658805\n",
            "f1_score: 0.2683284957859329 std: 0.10349778124534999\n",
            "balanced accuracy: 0.5686875 std: 0.04072312401892949\n",
            "average precision: 0.27188879751461986 std: 0.046239323978721436\n"
          ]
        }
      ]
    },
    {
      "cell_type": "code",
      "source": [
        "# Random Forest Experiment: Gini criterion, with bootstrap, no weighted \n",
        "itr_num = 100\n",
        "acc = []\n",
        "f_1= []\n",
        "balancedAcc = []\n",
        "pr = []\n",
        "\n",
        "for exp in range(itr_num):\n",
        "  clf = RandomForestClassifier(bootstrap=True, class_weight=None, criterion='gini',\n",
        "              max_depth=None, max_features='auto', max_leaf_nodes=None,\n",
        "              min_impurity_decrease=0.0,\n",
        "              min_samples_leaf=1, min_samples_split=2,\n",
        "              min_weight_fraction_leaf=0.0, n_estimators=100, n_jobs=1,\n",
        "              oob_score=False, random_state=None, verbose=0,\n",
        "              warm_start=False)\n",
        "\n",
        "  clf.fit(X_train,y_train)\n",
        "\n",
        "  y_predicted=clf.predict(X_test)\n",
        "\n",
        "  a, f, b, p = metrics_report(y_test, y_predicted)\n",
        "  acc.append(a) \n",
        "  f_1.append(f)\n",
        "  balancedAcc.append(b)\n",
        "  pr.append(p)\n",
        "\n",
        "print('')\n",
        "print ('accuracy:', statistics.mean(acc), 'std:', statistics.pstdev(acc))\n",
        "print ('f1_score:', statistics.mean(f_1), 'std:', statistics.pstdev(f_1))\n",
        "print ('balanced accuracy:', statistics.mean(balancedAcc), 'std:', statistics.pstdev(balancedAcc))\n",
        "print ('average precision:', statistics.mean(pr), 'std:', statistics.pstdev(pr))"
      ],
      "metadata": {
        "colab": {
          "base_uri": "https://localhost:8080/"
        },
        "id": "ZeaRVtJLPbYU",
        "outputId": "94b02bd0-01de-4239-f215-9af04a65ef55"
      },
      "execution_count": null,
      "outputs": [
        {
          "output_type": "stream",
          "name": "stdout",
          "text": [
            "\n",
            "accuracy: 0.7769736842105264 std: 0.018827747396387092\n",
            "f1_score: 0.1974214911455186 std: 0.09680210117010245\n",
            "balanced accuracy: 0.5415833333333333 std: 0.03481837796975105\n",
            "average precision: 0.24486815998329156 std: 0.030217398159434947\n"
          ]
        }
      ]
    },
    {
      "cell_type": "code",
      "source": [
        "# Random Forest Experiment: Gini criterion, with bootstrap, with weighted \n",
        "itr_num = 100\n",
        "acc = []\n",
        "f_1= []\n",
        "balancedAcc = []\n",
        "pr = []\n",
        "\n",
        "for exp in range(itr_num):\n",
        "  clf = RandomForestClassifier(bootstrap=True, class_weight='balanced', criterion='gini',\n",
        "              max_depth=None, max_features='auto', max_leaf_nodes=None,\n",
        "              min_impurity_decrease=0.0,\n",
        "              min_samples_leaf=1, min_samples_split=2,\n",
        "              min_weight_fraction_leaf=0.0, n_estimators=100, n_jobs=1,\n",
        "              oob_score=False, random_state=None, verbose=0,\n",
        "              warm_start=False)\n",
        "\n",
        "  clf.fit(X_train,y_train)\n",
        "\n",
        "  y_predicted=clf.predict(X_test)\n",
        "\n",
        "  a, f, b, p = metrics_report(y_test, y_predicted)\n",
        "  acc.append(a) \n",
        "  f_1.append(f)\n",
        "  balancedAcc.append(b)\n",
        "  pr.append(p)\n",
        "\n",
        "print('')\n",
        "print ('accuracy:', statistics.mean(acc), 'std:', statistics.pstdev(acc))\n",
        "print ('f1_score:', statistics.mean(f_1), 'std:', statistics.pstdev(f_1))\n",
        "print ('balanced accuracy:', statistics.mean(balancedAcc), 'std:', statistics.pstdev(balancedAcc))\n",
        "print ('average precision:', statistics.mean(pr), 'std:', statistics.pstdev(pr))"
      ],
      "metadata": {
        "colab": {
          "base_uri": "https://localhost:8080/"
        },
        "id": "4ckHDyb9P7Jc",
        "outputId": "1d2f8ea5-3553-4fda-f32d-4bf0f6f9a137"
      },
      "execution_count": null,
      "outputs": [
        {
          "output_type": "stream",
          "name": "stdout",
          "text": [
            "\n",
            "accuracy: 0.7855263157894737 std: 0.019293260919230507\n",
            "f1_score: 0.19058078436422762 std: 0.07801908751471394\n",
            "balanced accuracy: 0.5424166666666667 std: 0.027788136957262108\n",
            "average precision: 0.25032265559732664 std: 0.032033940489040034\n"
          ]
        }
      ]
    },
    {
      "cell_type": "code",
      "source": [
        "# Random Forest Experiment: Gini criterion, no bootstrap, with weighted \n",
        "itr_num = 100\n",
        "acc = []\n",
        "f_1= []\n",
        "balancedAcc = []\n",
        "pr = []\n",
        "\n",
        "for exp in range(itr_num):\n",
        "  clf = RandomForestClassifier(bootstrap=False, class_weight='balanced', criterion='gini',\n",
        "              max_depth=None, max_features='auto', max_leaf_nodes=None,\n",
        "              min_impurity_decrease=0.0,\n",
        "              min_samples_leaf=1, min_samples_split=2,\n",
        "              min_weight_fraction_leaf=0.0, n_estimators=100, n_jobs=1,\n",
        "              oob_score=False, random_state=None, verbose=0,\n",
        "              warm_start=False)\n",
        "\n",
        "  clf.fit(X_train,y_train)\n",
        "\n",
        "  y_predicted=clf.predict(X_test)\n",
        "\n",
        "  a, f, b, p = metrics_report(y_test, y_predicted)\n",
        "  acc.append(a) \n",
        "  f_1.append(f)\n",
        "  balancedAcc.append(b)\n",
        "  pr.append(p)\n",
        "\n",
        "print('')\n",
        "print ('accuracy:', statistics.mean(acc), 'std:', statistics.pstdev(acc))\n",
        "print ('f1_score:', statistics.mean(f_1), 'std:', statistics.pstdev(f_1))\n",
        "print ('balanced accuracy:', statistics.mean(balancedAcc), 'std:', statistics.pstdev(balancedAcc))\n",
        "print ('average precision:', statistics.mean(pr), 'std:', statistics.pstdev(pr))"
      ],
      "metadata": {
        "colab": {
          "base_uri": "https://localhost:8080/"
        },
        "id": "sqYjGoFmQg09",
        "outputId": "9ce54b15-2268-43d8-da8a-730f4cffdc35"
      },
      "execution_count": null,
      "outputs": [
        {
          "output_type": "stream",
          "name": "stdout",
          "text": [
            "\n",
            "accuracy: 0.7822368421052631 std: 0.0182676886538353\n",
            "f1_score: 0.26374441766386847 std: 0.05797204070625063\n",
            "balanced accuracy: 0.5639375 std: 0.02437890816247612\n",
            "average precision: 0.26141473000683524 std: 0.028727602711258828\n"
          ]
        }
      ]
    },
    {
      "cell_type": "code",
      "source": [
        "# Random Forest Experiment: Entropy criterion, no bootstrap, no weighted \n",
        "itr_num = 100\n",
        "acc = []\n",
        "f_1= []\n",
        "balancedAcc = []\n",
        "pr = []\n",
        "\n",
        "for exp in range(itr_num):\n",
        "  clf = RandomForestClassifier(bootstrap=False, class_weight=None, criterion='entropy',\n",
        "              max_depth=None, max_features='auto', max_leaf_nodes=None,\n",
        "              min_impurity_decrease=0.0,\n",
        "              min_samples_leaf=1, min_samples_split=2,\n",
        "              min_weight_fraction_leaf=0.0, n_estimators=100, n_jobs=1,\n",
        "              oob_score=False, random_state=None, verbose=0,\n",
        "              warm_start=False)\n",
        "\n",
        "  clf.fit(X_train,y_train)\n",
        "\n",
        "  y_predicted=clf.predict(X_test)\n",
        "\n",
        "  a, f, b, p = metrics_report(y_test, y_predicted)\n",
        "  acc.append(a) \n",
        "  f_1.append(f)\n",
        "  balancedAcc.append(b)\n",
        "  pr.append(p)\n",
        "\n",
        "print('')\n",
        "print ('accuracy:', statistics.mean(acc), 'std:', statistics.pstdev(acc))\n",
        "print ('f1_score:', statistics.mean(f_1), 'std:', statistics.pstdev(f_1))\n",
        "print ('balanced accuracy:', statistics.mean(balancedAcc), 'std:', statistics.pstdev(balancedAcc))\n",
        "print ('average precision:', statistics.mean(pr), 'std:', statistics.pstdev(pr))\n"
      ],
      "metadata": {
        "colab": {
          "base_uri": "https://localhost:8080/"
        },
        "id": "a5-bOUnVSIkr",
        "outputId": "ee2e11fc-8b3e-4f0f-b969-724d929ed03c"
      },
      "execution_count": null,
      "outputs": [
        {
          "output_type": "stream",
          "name": "stdout",
          "text": [
            "\n",
            "accuracy: 0.7817105263157895 std: 0.02256837870675525\n",
            "f1_score: 0.22625994877230574 std: 0.08702092912185878\n",
            "balanced accuracy: 0.5516875 std: 0.03387668481870025\n",
            "average precision: 0.2555017622180451 std: 0.03782901415287887\n"
          ]
        }
      ]
    },
    {
      "cell_type": "code",
      "source": [
        "# Random Forest Experiment: Entropy criterion, with bootstrap, no weighted \n",
        "itr_num = 100\n",
        "acc = []\n",
        "f_1= []\n",
        "balancedAcc = []\n",
        "pr = []\n",
        "\n",
        "for exp in range(itr_num):\n",
        "  clf = RandomForestClassifier(bootstrap=True, class_weight=None, criterion='entropy',\n",
        "              max_depth=None, max_features='auto', max_leaf_nodes=None,\n",
        "              min_impurity_decrease=0.0,\n",
        "              min_samples_leaf=1, min_samples_split=2,\n",
        "              min_weight_fraction_leaf=0.0, n_estimators=100, n_jobs=1,\n",
        "              oob_score=False, random_state=None, verbose=0,\n",
        "              warm_start=False)\n",
        "\n",
        "  clf.fit(X_train,y_train)\n",
        "\n",
        "  y_predicted=clf.predict(X_test)\n",
        "\n",
        "  a, f, b, p = metrics_report(y_test, y_predicted)\n",
        "  acc.append(a) \n",
        "  f_1.append(f)\n",
        "  balancedAcc.append(b)\n",
        "  pr.append(p)\n",
        "\n",
        "print('')\n",
        "print ('accuracy:', statistics.mean(acc), 'std:', statistics.pstdev(acc))\n",
        "print ('f1_score:', statistics.mean(f_1), 'std:', statistics.pstdev(f_1))\n",
        "print ('balanced accuracy:', statistics.mean(balancedAcc), 'std:', statistics.pstdev(balancedAcc))\n",
        "print ('average precision:', statistics.mean(pr), 'std:', statistics.pstdev(pr))"
      ],
      "metadata": {
        "colab": {
          "base_uri": "https://localhost:8080/"
        },
        "id": "r_i-sGGTS8c7",
        "outputId": "30b87639-91d9-4b2f-87e5-5c91db604c88"
      },
      "execution_count": null,
      "outputs": [
        {
          "output_type": "stream",
          "name": "stdout",
          "text": [
            "\n",
            "accuracy: 0.7828947368421053 std: 0.019560616772787517\n",
            "f1_score: 0.1757954282552075 std: 0.09250845796612787\n",
            "balanced accuracy: 0.5375416666666667 std: 0.033020642743929476\n",
            "average precision: 0.24533217157477025 std: 0.034097122147887876\n"
          ]
        }
      ]
    },
    {
      "cell_type": "code",
      "source": [
        "# Random Forest Experiment: Entropy criterion, with bootstrap, with weighted \n",
        "itr_num = 100\n",
        "acc = []\n",
        "f_1= []\n",
        "balancedAcc = []\n",
        "pr = []\n",
        "\n",
        "for exp in range(itr_num):\n",
        "  clf = RandomForestClassifier(bootstrap=True, class_weight='balanced', criterion='entropy',\n",
        "              max_depth=None, max_features='auto', max_leaf_nodes=None,\n",
        "              min_impurity_decrease=0.0,\n",
        "              min_samples_leaf=1, min_samples_split=2,\n",
        "              min_weight_fraction_leaf=0.0, n_estimators=100, n_jobs=1,\n",
        "              oob_score=False, random_state=None, verbose=0,\n",
        "              warm_start=False)\n",
        "\n",
        "  clf.fit(X_train,y_train)\n",
        "\n",
        "  y_predicted=clf.predict(X_test)\n",
        "\n",
        "  a, f, b, p = metrics_report(y_test, y_predicted)\n",
        "  acc.append(a) \n",
        "  f_1.append(f)\n",
        "  balancedAcc.append(b)\n",
        "  pr.append(p)\n",
        "\n",
        "print('')\n",
        "print ('accuracy:', statistics.mean(acc), 'std:', statistics.pstdev(acc))\n",
        "print ('f1_score:', statistics.mean(f_1), 'std:', statistics.pstdev(f_1))\n",
        "print ('balanced accuracy:', statistics.mean(balancedAcc), 'std:', statistics.pstdev(balancedAcc))\n",
        "print ('average precision:', statistics.mean(pr), 'std:', statistics.pstdev(pr))"
      ],
      "metadata": {
        "colab": {
          "base_uri": "https://localhost:8080/"
        },
        "id": "XlhV1TGvTirb",
        "outputId": "9b29c9be-8e2d-4a02-eb07-3152d0262fb3"
      },
      "execution_count": null,
      "outputs": [
        {
          "output_type": "stream",
          "name": "stdout",
          "text": [
            "\n",
            "accuracy: 0.7785526315789474 std: 0.018798298826786526\n",
            "f1_score: 0.1685737350234456 std: 0.06877054032634956\n",
            "balanced accuracy: 0.5329583333333333 std: 0.024854402415758155\n",
            "average precision: 0.23857131109022556 std: 0.027121701780587603\n"
          ]
        }
      ]
    },
    {
      "cell_type": "code",
      "source": [
        "# Random Forest Experiment: Entropy criterion, with bootstrap, with weighted \n",
        "itr_num = 100\n",
        "acc = []\n",
        "f_1= []\n",
        "balancedAcc = []\n",
        "pr = []\n",
        "\n",
        "for exp in range(itr_num):\n",
        "  clf = RandomForestClassifier(bootstrap=False, class_weight='balanced', criterion='entropy',\n",
        "              max_depth=None, max_features='auto', max_leaf_nodes=None,\n",
        "              min_impurity_decrease=0.0,\n",
        "              min_samples_leaf=1, min_samples_split=2,\n",
        "              min_weight_fraction_leaf=0.0, n_estimators=100, n_jobs=1,\n",
        "              oob_score=False, random_state=None, verbose=0,\n",
        "              warm_start=False)\n",
        "\n",
        "  clf.fit(X_train,y_train)\n",
        "\n",
        "  y_predicted=clf.predict(X_test)\n",
        "\n",
        "  a, f, b, p = metrics_report(y_test, y_predicted)\n",
        "  acc.append(a) \n",
        "  f_1.append(f)\n",
        "  balancedAcc.append(b)\n",
        "  pr.append(p)\n",
        "\n",
        "print('')\n",
        "print ('accuracy:', statistics.mean(acc), 'std:', statistics.pstdev(acc))\n",
        "print ('f1_score:', statistics.mean(f_1), 'std:', statistics.pstdev(f_1))\n",
        "print ('balanced accuracy:', statistics.mean(balancedAcc), 'std:', statistics.pstdev(balancedAcc))\n",
        "print ('average precision:', statistics.mean(pr), 'std:', statistics.pstdev(pr))"
      ],
      "metadata": {
        "colab": {
          "base_uri": "https://localhost:8080/"
        },
        "id": "NQO0XqoFXg7j",
        "outputId": "1d6e9aae-c7f1-420c-ab93-01d8dc52b2e2"
      },
      "execution_count": null,
      "outputs": [
        {
          "output_type": "stream",
          "name": "stdout",
          "text": [
            "\n",
            "accuracy: 0.78 std: 0.025519532468211918\n",
            "f1_score: 0.22394516114447463 std: 0.0815044063288019\n",
            "balanced accuracy: 0.5499166666666667 std: 0.033875691874853286\n",
            "average precision: 0.25415245144110277 std: 0.0370295844717702\n"
          ]
        }
      ]
    },
    {
      "cell_type": "code",
      "source": [
        "# Change number of estimators\n",
        "est_values = [100, 200, 300, 400, 500, 600, 700, 800, 900, 1000]\n",
        "num_itr = 100\n",
        "acc = np.zeros((100, len(est_values)))\n",
        "f_1= np.zeros((100, len(est_values)))\n",
        "balancedAcc = np.zeros((100, len(est_values)))\n",
        "pr = np.zeros((100, len(est_values)))\n",
        "\n",
        "cnt = 0\n",
        "for exp in est_values:\n",
        "  for itr in range(num_itr):\n",
        "    clf = RandomForestClassifier(bootstrap=False, class_weight=None, criterion='gini',\n",
        "                max_depth=None, max_features='auto', max_leaf_nodes=None,\n",
        "                min_impurity_decrease=0.0,\n",
        "                min_samples_leaf=1, min_samples_split=2,\n",
        "                min_weight_fraction_leaf=0.0, n_estimators=exp, n_jobs=1,\n",
        "                oob_score=False, random_state=None, verbose=0,\n",
        "                warm_start=False)\n",
        "\n",
        "    clf.fit(X_train,y_train)\n",
        "\n",
        "    y_predicted=clf.predict(X_test)\n",
        "\n",
        "    a, f, b, p = metrics_report(y_test, y_predicted)\n",
        "    acc[itr, cnt] = a\n",
        "    f_1[itr, cnt] = f\n",
        "    balancedAcc[itr, cnt] = b\n",
        "    pr[itr, cnt] = p\n",
        "  cnt += 1\n"
      ],
      "metadata": {
        "id": "T8EWzusCYAHJ"
      },
      "execution_count": null,
      "outputs": []
    },
    {
      "cell_type": "code",
      "source": [
        "plt.figure(figsize=(16,11))\n",
        "\n",
        "plt.subplot(4,1,1)\n",
        "plt.ylabel('Accuracy')\n",
        "plt.boxplot(acc, showfliers=False)\n",
        "plt.tick_params(axis='x', which='both', bottom=False, top=False, labelbottom=False)\n",
        "\n",
        "plt.subplot(4,1,2)\n",
        "plt.ylabel('F1 Score')\n",
        "plt.boxplot(f_1, showfliers=False)\n",
        "plt.tick_params(axis='x', which='both', bottom=False, top=False, labelbottom=False)\n",
        "\n",
        "plt.subplot(4,1,3)\n",
        "plt.ylabel('Balanced Accuracy')\n",
        "plt.boxplot(balancedAcc,showfliers=False)\n",
        "plt.tick_params(axis='x', which='both', bottom=False, top=False, labelbottom=False)\n",
        "\n",
        "plt.subplot(4,1,4)\n",
        "plt.ylabel('Average Precision')\n",
        "plt.boxplot(pr,labels=est_values, showfliers=False)\n",
        "plt.xlabel('Number of estimators')\n",
        "\n",
        "\n",
        "plt.tight_layout(4)\n",
        "plt.show()"
      ],
      "metadata": {
        "colab": {
          "base_uri": "https://localhost:8080/",
          "height": 743
        },
        "id": "TdO77Rypovpa",
        "outputId": "8518fe2d-047a-4f51-ce56-3479e061c166"
      },
      "execution_count": null,
      "outputs": [
        {
          "output_type": "display_data",
          "data": {
            "text/plain": [
              "<Figure size 1152x792 with 4 Axes>"
            ],
            "image/png": "[encoded data removed]"
          },
          "metadata": {
            "needs_background": "light"
          }
        }
      ]
    },
    {
      "cell_type": "code",
      "source": [
        "# finding the most important features \n",
        "clf = RandomForestClassifier(bootstrap=False, class_weight=None, criterion='gini',\n",
        "            max_depth=None, max_features='auto', max_leaf_nodes=None,\n",
        "            min_impurity_decrease=0.0,\n",
        "            min_samples_leaf=1, min_samples_split=2,\n",
        "            min_weight_fraction_leaf=0.0, n_estimators=300, n_jobs=1,\n",
        "            oob_score=False, random_state=None, verbose=0,\n",
        "            warm_start=False)\n",
        "clf.fit(X_train,y_train)\n",
        "y_predicted=clf.predict(X_test)\n",
        "idx = np.arange(X_train.shape[1])\n",
        "feature_imp = pd.Series(clf.feature_importances_, index=idx).sort_values(ascending=False)\n",
        "print(feature_imp[:10])\n",
        "print(feature_imp.index[:10])\n"
      ],
      "metadata": {
        "id": "sv_j5vE0TUc0",
        "colab": {
          "base_uri": "https://localhost:8080/"
        },
        "outputId": "f60157b8-e953-474a-e2f0-10c743bff980"
      },
      "execution_count": 34,
      "outputs": [
        {
          "output_type": "stream",
          "name": "stdout",
          "text": [
            "317    0.029064\n",
            "287    0.021567\n",
            "203    0.021242\n",
            "214    0.019336\n",
            "119    0.017379\n",
            "298    0.017003\n",
            "35     0.014066\n",
            "305    0.012431\n",
            "190    0.010920\n",
            "130    0.010703\n",
            "dtype: float64\n",
            "Int64Index([317, 287, 203, 214, 119, 298, 35, 305, 190, 130], dtype='int64')\n"
          ]
        }
      ]
    },
    {
      "cell_type": "code",
      "source": [
        "# Add labels to your graph\n",
        "plt.figure(figsize=(11,5))\n",
        "sns.barplot(y=feature_imp[:10], x=feature_imp.index[:10])\n",
        "plt.show()"
      ],
      "metadata": {
        "id": "2QUtd5c2TqiV",
        "colab": {
          "base_uri": "https://localhost:8080/",
          "height": 320
        },
        "outputId": "3b99cede-9854-4f4c-dcb3-24bc16d441f1"
      },
      "execution_count": 35,
      "outputs": [
        {
          "output_type": "display_data",
          "data": {
            "text/plain": [
              "<Figure size 792x360 with 1 Axes>"
            ],
            "image/png": "[encoded data removed]"
          },
          "metadata": {
            "needs_background": "light"
          }
        }
      ]
    },
    {
      "cell_type": "code",
      "source": [
        "# pick n most important features\n",
        "n = 10\n",
        "X = np.vstack((inputs[:,feature_imp.index[0]], inputs[:,feature_imp.index[1]]))\n",
        "for f in range(n-2):\n",
        "  X = np.vstack((X, inputs[:, feature_imp.index[f+2]]))\n",
        "print(X.shape)\n",
        "X_train, X_test, y_train, y_test = train_test_split(X.T, outputs, test_size=.3, shuffle=False)"
      ],
      "metadata": {
        "id": "wBukqcXzbWuJ",
        "colab": {
          "base_uri": "https://localhost:8080/"
        },
        "outputId": "7a40fcf7-6081-4d53-9981-a2cf6837be7d"
      },
      "execution_count": 40,
      "outputs": [
        {
          "output_type": "stream",
          "name": "stdout",
          "text": [
            "(10, 251)\n"
          ]
        }
      ]
    },
    {
      "cell_type": "code",
      "source": [
        "itr_num = 100\n",
        "acc = []\n",
        "f_1= []\n",
        "balancedAcc = []\n",
        "pr = []\n",
        "\n",
        "for exp in range(itr_num):\n",
        "  clf = RandomForestClassifier(bootstrap=False, class_weight=None, criterion='gini',\n",
        "              max_depth=None, max_features='auto', max_leaf_nodes=None,\n",
        "              min_impurity_decrease=0.0,\n",
        "              min_samples_leaf=1, min_samples_split=2,\n",
        "              min_weight_fraction_leaf=0.0, n_estimators=300, n_jobs=1,\n",
        "              oob_score=False, random_state=None, verbose=0,\n",
        "              warm_start=False)\n",
        "\n",
        "  clf.fit(X_train,y_train)\n",
        "\n",
        "  y_predicted=clf.predict(X_test)\n",
        "\n",
        "  a, f, b, p = metrics_report(y_test, y_predicted)\n",
        "  acc.append(a) \n",
        "  f_1.append(f)\n",
        "  balancedAcc.append(b)\n",
        "  pr.append(p)\n",
        "\n",
        "print('')\n",
        "print('---- Random forest trained on 10 most important features ----')\n",
        "print ('accuracy:', statistics.mean(acc), 'std:', statistics.pstdev(acc))\n",
        "print ('f1_score:', statistics.mean(f_1), 'std:', statistics.pstdev(f_1))\n",
        "print ('balanced accuracy:', statistics.mean(balancedAcc), 'std:', statistics.pstdev(balancedAcc))\n",
        "print ('average precision:', statistics.mean(pr), 'std:', statistics.pstdev(pr))"
      ],
      "metadata": {
        "id": "Cjaqs6VRcPCX",
        "colab": {
          "base_uri": "https://localhost:8080/"
        },
        "outputId": "3329431f-0d44-4e7c-e19b-578b1f0ba070"
      },
      "execution_count": 41,
      "outputs": [
        {
          "output_type": "stream",
          "name": "stdout",
          "text": [
            "\n",
            "---- Random forest trained on 10 most important features ----\n",
            "accuracy: 0.7573684210526316 std: 0.015824522503550435\n",
            "f1_score: 0.5108029759082391 std: 0.02430907288190341\n",
            "balanced accuracy: 0.700125 std: 0.017694406288115166\n",
            "average precision: 0.35163942464857795 std: 0.019748645109740778\n"
          ]
        }
      ]
    },
    {
      "cell_type": "code",
      "source": [
        "# pick n most important features\n",
        "num = [5, 10, 15, 20, 25, 30, 35, 40, 45, 50, 55, 60, 65, 70, 75]\n",
        "acc = np.zeros((100, len(num)))\n",
        "f_1= np.zeros((100, len(num)))\n",
        "balancedAcc = np.zeros((100, len(num)))\n",
        "pr = np.zeros((100, len(num)))\n",
        "\n",
        "cnt = 0\n",
        "for n in num:\n",
        "  print(n)\n",
        "  X = np.vstack((inputs[:,feature_imp.index[0]], inputs[:,feature_imp.index[1]]))\n",
        "  for f in range(n-2):\n",
        "    X = np.vstack((X, inputs[:, feature_imp.index[f+2]]))\n",
        "  X_train, X_test, y_train, y_test = train_test_split(X.T, outputs, test_size=.3, shuffle=False)\n",
        "  for itr in range(itr_num):\n",
        "    clf = RandomForestClassifier(bootstrap=False, class_weight=None, criterion='gini',\n",
        "                max_depth=None, max_features='auto', max_leaf_nodes=None,\n",
        "                min_impurity_decrease=0.0,\n",
        "                min_samples_leaf=1, min_samples_split=2,\n",
        "                min_weight_fraction_leaf=0.0, n_estimators=300, n_jobs=1,\n",
        "                oob_score=False, random_state=None, verbose=0,\n",
        "                warm_start=False)\n",
        "\n",
        "    clf.fit(X_train,y_train)\n",
        "\n",
        "    y_predicted=clf.predict(X_test)\n",
        "\n",
        "    a, f, b, p = metrics_report(y_test, y_predicted)\n",
        "    acc[itr, cnt] = a\n",
        "    f_1[itr, cnt] = f\n",
        "    balancedAcc[itr, cnt] = b\n",
        "    pr[itr, cnt] = p\n",
        "  cnt += 1\n"
      ],
      "metadata": {
        "id": "BWsfVsOHtfFI",
        "colab": {
          "base_uri": "https://localhost:8080/"
        },
        "outputId": "b2392860-36f5-4341-d3a0-4bddc2796e4e"
      },
      "execution_count": 42,
      "outputs": [
        {
          "output_type": "stream",
          "name": "stdout",
          "text": [
            "5\n",
            "10\n",
            "15\n",
            "20\n",
            "25\n",
            "30\n",
            "35\n",
            "40\n",
            "45\n",
            "50\n",
            "55\n",
            "60\n",
            "65\n",
            "70\n",
            "75\n"
          ]
        }
      ]
    },
    {
      "cell_type": "code",
      "source": [
        "plt.figure(figsize=(16,11))\n",
        "plt.subplot(4,1,1)\n",
        "plt.ylabel('Accuracy')\n",
        "plt.boxplot(acc, showfliers=False)\n",
        "plt.tick_params(axis='x', which='both', bottom=False, top=False, labelbottom=False)\n",
        "\n",
        "\n",
        "\n",
        "plt.subplot(4,1,2)\n",
        "plt.ylabel('F1 Score')\n",
        "plt.boxplot(f_1, showfliers=False)\n",
        "plt.tick_params(axis='x', which='both', bottom=False, top=False, labelbottom=False)\n",
        "\n",
        "plt.subplot(4,1,3)\n",
        "plt.ylabel('Balanced Accuracy')\n",
        "plt.boxplot(balancedAcc, showfliers=False)\n",
        "plt.tick_params(axis='x', which='both', bottom=False, top=False, labelbottom=False)\n",
        "\n",
        "plt.subplot(4,1,4)\n",
        "plt.ylabel('Average Precision')\n",
        "plt.boxplot(pr, labels=num, showfliers=False)\n",
        "plt.xlabel('Number of important features')\n",
        "\n",
        "plt.tight_layout(4)\n",
        "plt.show()"
      ],
      "metadata": {
        "id": "XpcNG6PQ7IlT",
        "colab": {
          "base_uri": "https://localhost:8080/",
          "height": 743
        },
        "outputId": "987fdaf2-e7c0-4ac8-8a1c-6e551da6d705"
      },
      "execution_count": 43,
      "outputs": [
        {
          "output_type": "display_data",
          "data": {
            "text/plain": [
              "<Figure size 1152x792 with 4 Axes>"
            ],
            "image/png": "[encoded data removed]"
          },
          "metadata": {
            "needs_background": "light"
          }
        }
      ]
    }
  ]
}